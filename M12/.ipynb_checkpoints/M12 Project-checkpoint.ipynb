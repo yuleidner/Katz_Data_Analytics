{
 "cells": [
  {
   "cell_type": "markdown",
   "metadata": {},
   "source": [
    "<a id='Top'></a>\n",
    "# Analytics Programming: Module 12\n",
    "## Statistical Tests\n",
    "#### Alan Leidner Nov 17, 2019"
   ]
  },
  {
   "cell_type": "markdown",
   "metadata": {},
   "source": [
    "In this notebook I will analyze car crash data from nyc's opendata set, using statistical tests.\n",
    "\n",
    "\n",
    "1. [Importing](#Importing)\n",
    "2. [Analysis & Cleaning](#Cleaning)\n",
    "3. [Statistical Analysis](#Statistics)\n",
    "4. [Closing Thoughts](#Conclusion)\n",
    "    \n",
    "\n",
    "DataSource: https://data.cityofnewyork.us/resource/h9gi-nx95"
   ]
  },
  {
   "cell_type": "markdown",
   "metadata": {},
   "source": [
    "### Importing the data<a id='Importing'></a>\n",
    "First I will import the data using the Socrata API from the website.\n",
    "I will import all available rows into a dataframe which will let us read the csv data.\n",
    "<br><div style=\"text-align: right\">[Begining of the page](#Top)</div>"
   ]
  },
  {
   "cell_type": "code",
   "execution_count": 1,
   "metadata": {},
   "outputs": [
    {
     "name": "stderr",
     "output_type": "stream",
     "text": [
      "/Users/leidner/anaconda3/lib/python3.7/site-packages/IPython/core/interactiveshell.py:3057: DtypeWarning: Columns (3) have mixed types. Specify dtype option on import or set low_memory=False.\n",
      "  interactivity=interactivity, compiler=compiler, result=result)\n"
     ]
    }
   ],
   "source": [
    "import pandas as pd\n",
    "import datetime as dt\n",
    "pd.set_option('display.max_colwidth', -1) # Shows full cell text, instead of  truncated data in cells\n",
    "pd.set_option('display.max.columns', None) # Let's me see all columns when calling a dataframe\n",
    "crashes = pd.read_csv(\"https://data.cityofnewyork.us/resource/h9gi-nx95.csv?$limit=2000000\")"
   ]
  },
  {
   "cell_type": "markdown",
   "metadata": {},
   "source": [
    "We will take a quick look at our data before we get started"
   ]
  },
  {
   "cell_type": "code",
   "execution_count": 2,
   "metadata": {},
   "outputs": [
    {
     "data": {
      "text/html": [
       "<div>\n",
       "<style scoped>\n",
       "    .dataframe tbody tr th:only-of-type {\n",
       "        vertical-align: middle;\n",
       "    }\n",
       "\n",
       "    .dataframe tbody tr th {\n",
       "        vertical-align: top;\n",
       "    }\n",
       "\n",
       "    .dataframe thead th {\n",
       "        text-align: right;\n",
       "    }\n",
       "</style>\n",
       "<table border=\"1\" class=\"dataframe\">\n",
       "  <thead>\n",
       "    <tr style=\"text-align: right;\">\n",
       "      <th></th>\n",
       "      <th>accident_date</th>\n",
       "      <th>accident_time</th>\n",
       "      <th>borough</th>\n",
       "      <th>zip_code</th>\n",
       "      <th>latitude</th>\n",
       "      <th>longitude</th>\n",
       "      <th>location</th>\n",
       "      <th>on_street_name</th>\n",
       "      <th>off_street_name</th>\n",
       "      <th>cross_street_name</th>\n",
       "      <th>number_of_persons_injured</th>\n",
       "      <th>number_of_persons_killed</th>\n",
       "      <th>number_of_pedestrians_injured</th>\n",
       "      <th>number_of_pedestrians_killed</th>\n",
       "      <th>number_of_cyclist_injured</th>\n",
       "      <th>number_of_cyclist_killed</th>\n",
       "      <th>number_of_motorist_injured</th>\n",
       "      <th>number_of_motorist_killed</th>\n",
       "      <th>contributing_factor_vehicle_1</th>\n",
       "      <th>contributing_factor_vehicle_2</th>\n",
       "      <th>contributing_factor_vehicle_3</th>\n",
       "      <th>contributing_factor_vehicle_4</th>\n",
       "      <th>contributing_factor_vehicle_5</th>\n",
       "      <th>collision_id</th>\n",
       "      <th>vehicle_type_code1</th>\n",
       "      <th>vehicle_type_code2</th>\n",
       "      <th>vehicle_type_code_3</th>\n",
       "      <th>vehicle_type_code_4</th>\n",
       "      <th>vehicle_type_code_5</th>\n",
       "    </tr>\n",
       "  </thead>\n",
       "  <tbody>\n",
       "    <tr>\n",
       "      <th>0</th>\n",
       "      <td>2012-07-23T00:00:00.000</td>\n",
       "      <td>16:30</td>\n",
       "      <td>QUEENS</td>\n",
       "      <td>11368</td>\n",
       "      <td>40.751545</td>\n",
       "      <td>-73.870843</td>\n",
       "      <td>POINT (-73.8708432 40.7515446)</td>\n",
       "      <td>37 AVENUE</td>\n",
       "      <td>JUNCTION BOULEVARD</td>\n",
       "      <td>NaN</td>\n",
       "      <td>0.0</td>\n",
       "      <td>0.0</td>\n",
       "      <td>0</td>\n",
       "      <td>0</td>\n",
       "      <td>0</td>\n",
       "      <td>0</td>\n",
       "      <td>0</td>\n",
       "      <td>0</td>\n",
       "      <td>Unspecified</td>\n",
       "      <td>Unspecified</td>\n",
       "      <td>NaN</td>\n",
       "      <td>NaN</td>\n",
       "      <td>NaN</td>\n",
       "      <td>279832</td>\n",
       "      <td>PASSENGER VEHICLE</td>\n",
       "      <td>UNKNOWN</td>\n",
       "      <td>NaN</td>\n",
       "      <td>NaN</td>\n",
       "      <td>NaN</td>\n",
       "    </tr>\n",
       "    <tr>\n",
       "      <th>1</th>\n",
       "      <td>2012-08-14T00:00:00.000</td>\n",
       "      <td>18:00</td>\n",
       "      <td>QUEENS</td>\n",
       "      <td>11101</td>\n",
       "      <td>40.744962</td>\n",
       "      <td>-73.935415</td>\n",
       "      <td>POINT (-73.9354154 40.7449621)</td>\n",
       "      <td>31 STREET</td>\n",
       "      <td>THOMSON AVENUE</td>\n",
       "      <td>NaN</td>\n",
       "      <td>0.0</td>\n",
       "      <td>0.0</td>\n",
       "      <td>0</td>\n",
       "      <td>0</td>\n",
       "      <td>0</td>\n",
       "      <td>0</td>\n",
       "      <td>0</td>\n",
       "      <td>0</td>\n",
       "      <td>Unspecified</td>\n",
       "      <td>Unspecified</td>\n",
       "      <td>NaN</td>\n",
       "      <td>NaN</td>\n",
       "      <td>NaN</td>\n",
       "      <td>239102</td>\n",
       "      <td>PASSENGER VEHICLE</td>\n",
       "      <td>PICK-UP TRUCK</td>\n",
       "      <td>NaN</td>\n",
       "      <td>NaN</td>\n",
       "      <td>NaN</td>\n",
       "    </tr>\n",
       "    <tr>\n",
       "      <th>1608163</th>\n",
       "      <td>2012-09-11T00:00:00.000</td>\n",
       "      <td>9:26</td>\n",
       "      <td>BROOKLYN</td>\n",
       "      <td>11211</td>\n",
       "      <td>40.717516</td>\n",
       "      <td>-73.943169</td>\n",
       "      <td>POINT (-73.943169 40.7175158)</td>\n",
       "      <td>WITHERS STREET</td>\n",
       "      <td>HUMBOLDT STREET</td>\n",
       "      <td>NaN</td>\n",
       "      <td>0.0</td>\n",
       "      <td>0.0</td>\n",
       "      <td>0</td>\n",
       "      <td>0</td>\n",
       "      <td>0</td>\n",
       "      <td>0</td>\n",
       "      <td>0</td>\n",
       "      <td>0</td>\n",
       "      <td>Oversized Vehicle</td>\n",
       "      <td>Unspecified</td>\n",
       "      <td>NaN</td>\n",
       "      <td>NaN</td>\n",
       "      <td>NaN</td>\n",
       "      <td>198502</td>\n",
       "      <td>OTHER</td>\n",
       "      <td>PASSENGER VEHICLE</td>\n",
       "      <td>NaN</td>\n",
       "      <td>NaN</td>\n",
       "      <td>NaN</td>\n",
       "    </tr>\n",
       "    <tr>\n",
       "      <th>1608164</th>\n",
       "      <td>2012-09-05T00:00:00.000</td>\n",
       "      <td>17:10</td>\n",
       "      <td>QUEENS</td>\n",
       "      <td>11415</td>\n",
       "      <td>40.712001</td>\n",
       "      <td>-73.825456</td>\n",
       "      <td>POINT (-73.8254559 40.7120013)</td>\n",
       "      <td>QUEENS BOULEVARD</td>\n",
       "      <td>83 AVENUE</td>\n",
       "      <td>NaN</td>\n",
       "      <td>1.0</td>\n",
       "      <td>0.0</td>\n",
       "      <td>1</td>\n",
       "      <td>0</td>\n",
       "      <td>0</td>\n",
       "      <td>0</td>\n",
       "      <td>0</td>\n",
       "      <td>0</td>\n",
       "      <td>Passenger Distraction</td>\n",
       "      <td>NaN</td>\n",
       "      <td>NaN</td>\n",
       "      <td>NaN</td>\n",
       "      <td>NaN</td>\n",
       "      <td>204233</td>\n",
       "      <td>PASSENGER VEHICLE</td>\n",
       "      <td>NaN</td>\n",
       "      <td>NaN</td>\n",
       "      <td>NaN</td>\n",
       "      <td>NaN</td>\n",
       "    </tr>\n",
       "  </tbody>\n",
       "</table>\n",
       "</div>"
      ],
      "text/plain": [
       "                   accident_date accident_time   borough zip_code   latitude  \\\n",
       "0        2012-07-23T00:00:00.000  16:30         QUEENS    11368    40.751545   \n",
       "1        2012-08-14T00:00:00.000  18:00         QUEENS    11101    40.744962   \n",
       "1608163  2012-09-11T00:00:00.000  9:26          BROOKLYN  11211    40.717516   \n",
       "1608164  2012-09-05T00:00:00.000  17:10         QUEENS    11415    40.712001   \n",
       "\n",
       "         longitude                        location  \\\n",
       "0       -73.870843  POINT (-73.8708432 40.7515446)   \n",
       "1       -73.935415  POINT (-73.9354154 40.7449621)   \n",
       "1608163 -73.943169  POINT (-73.943169 40.7175158)    \n",
       "1608164 -73.825456  POINT (-73.8254559 40.7120013)   \n",
       "\n",
       "                           on_street_name                   off_street_name  \\\n",
       "0        37 AVENUE                         JUNCTION BOULEVARD                 \n",
       "1        31 STREET                         THOMSON AVENUE                     \n",
       "1608163  WITHERS STREET                    HUMBOLDT STREET                    \n",
       "1608164  QUEENS BOULEVARD                  83 AVENUE                          \n",
       "\n",
       "        cross_street_name  number_of_persons_injured  \\\n",
       "0        NaN               0.0                         \n",
       "1        NaN               0.0                         \n",
       "1608163  NaN               0.0                         \n",
       "1608164  NaN               1.0                         \n",
       "\n",
       "         number_of_persons_killed  number_of_pedestrians_injured  \\\n",
       "0        0.0                       0                               \n",
       "1        0.0                       0                               \n",
       "1608163  0.0                       0                               \n",
       "1608164  0.0                       1                               \n",
       "\n",
       "         number_of_pedestrians_killed  number_of_cyclist_injured  \\\n",
       "0        0                             0                           \n",
       "1        0                             0                           \n",
       "1608163  0                             0                           \n",
       "1608164  0                             0                           \n",
       "\n",
       "         number_of_cyclist_killed  number_of_motorist_injured  \\\n",
       "0        0                         0                            \n",
       "1        0                         0                            \n",
       "1608163  0                         0                            \n",
       "1608164  0                         0                            \n",
       "\n",
       "         number_of_motorist_killed contributing_factor_vehicle_1  \\\n",
       "0        0                          Unspecified                    \n",
       "1        0                          Unspecified                    \n",
       "1608163  0                          Oversized Vehicle              \n",
       "1608164  0                          Passenger Distraction          \n",
       "\n",
       "        contributing_factor_vehicle_2 contributing_factor_vehicle_3  \\\n",
       "0        Unspecified                   NaN                            \n",
       "1        Unspecified                   NaN                            \n",
       "1608163  Unspecified                   NaN                            \n",
       "1608164  NaN                           NaN                            \n",
       "\n",
       "        contributing_factor_vehicle_4 contributing_factor_vehicle_5  \\\n",
       "0        NaN                           NaN                            \n",
       "1        NaN                           NaN                            \n",
       "1608163  NaN                           NaN                            \n",
       "1608164  NaN                           NaN                            \n",
       "\n",
       "         collision_id vehicle_type_code1 vehicle_type_code2  \\\n",
       "0        279832        PASSENGER VEHICLE  UNKNOWN             \n",
       "1        239102        PASSENGER VEHICLE  PICK-UP TRUCK       \n",
       "1608163  198502        OTHER              PASSENGER VEHICLE   \n",
       "1608164  204233        PASSENGER VEHICLE  NaN                 \n",
       "\n",
       "        vehicle_type_code_3 vehicle_type_code_4 vehicle_type_code_5  \n",
       "0        NaN                 NaN                 NaN                 \n",
       "1        NaN                 NaN                 NaN                 \n",
       "1608163  NaN                 NaN                 NaN                 \n",
       "1608164  NaN                 NaN                 NaN                 "
      ]
     },
     "execution_count": 2,
     "metadata": {},
     "output_type": "execute_result"
    }
   ],
   "source": [
    "pd.concat([crashes.head(2), crashes.tail(2)], axis=0)"
   ]
  },
  {
   "cell_type": "markdown",
   "metadata": {},
   "source": [
    "### Analyzing & Cleaning the data<a id='Cleaning'></a>\n",
    "Lets see what our rectuangular data looks like from a high level\n",
    "<br><div style=\"text-align: right\">[Begining of the page](#Top)</div>"
   ]
  },
  {
   "cell_type": "code",
   "execution_count": 3,
   "metadata": {},
   "outputs": [
    {
     "data": {
      "text/plain": [
       "(1608165, 29)"
      ]
     },
     "execution_count": 3,
     "metadata": {},
     "output_type": "execute_result"
    }
   ],
   "source": [
    "crashes.shape"
   ]
  },
  {
   "cell_type": "markdown",
   "metadata": {},
   "source": [
    "We have a bit over 1.5 Million rows of data, and 29 columns. But how much of the data is actually populated?\n",
    "I'll look to see how much of the set is null now."
   ]
  },
  {
   "cell_type": "code",
   "execution_count": 4,
   "metadata": {},
   "outputs": [
    {
     "data": {
      "text/plain": [
       "accident_date                    0.00 \n",
       "accident_time                    0.00 \n",
       "borough                          30.33\n",
       "zip_code                         30.34\n",
       "latitude                         12.22\n",
       "longitude                        12.22\n",
       "location                         12.22\n",
       "on_street_name                   19.60\n",
       "off_street_name                  33.49\n",
       "cross_street_name                86.13\n",
       "number_of_persons_injured        0.00 \n",
       "number_of_persons_killed         0.00 \n",
       "number_of_pedestrians_injured    0.00 \n",
       "number_of_pedestrians_killed     0.00 \n",
       "number_of_cyclist_injured        0.00 \n",
       "number_of_cyclist_killed         0.00 \n",
       "number_of_motorist_injured       0.00 \n",
       "number_of_motorist_killed        0.00 \n",
       "contributing_factor_vehicle_1    0.26 \n",
       "contributing_factor_vehicle_2    13.44\n",
       "contributing_factor_vehicle_3    93.53\n",
       "contributing_factor_vehicle_4    98.65\n",
       "contributing_factor_vehicle_5    99.66\n",
       "collision_id                     0.00 \n",
       "vehicle_type_code1               0.34 \n",
       "vehicle_type_code2               16.49\n",
       "vehicle_type_code_3              91.73\n",
       "vehicle_type_code_4              96.93\n",
       "vehicle_type_code_5              99.34\n",
       "dtype: float64"
      ]
     },
     "execution_count": 4,
     "metadata": {},
     "output_type": "execute_result"
    }
   ],
   "source": [
    "crashes.isnull().mean().round(4) * 100"
   ]
  },
  {
   "cell_type": "markdown",
   "metadata": {},
   "source": [
    "The higher the number, the more data is empty here. To make my notebook more effiicient, I will drop any column that has more than 30% of its data missing."
   ]
  },
  {
   "cell_type": "code",
   "execution_count": 5,
   "metadata": {},
   "outputs": [
    {
     "data": {
      "text/plain": [
       "accident_date                    0.00 \n",
       "accident_time                    0.00 \n",
       "borough                          30.33\n",
       "zip_code                         30.34\n",
       "latitude                         12.22\n",
       "longitude                        12.22\n",
       "location                         12.22\n",
       "on_street_name                   19.60\n",
       "off_street_name                  33.49\n",
       "number_of_persons_injured        0.00 \n",
       "number_of_persons_killed         0.00 \n",
       "number_of_pedestrians_injured    0.00 \n",
       "number_of_pedestrians_killed     0.00 \n",
       "number_of_cyclist_injured        0.00 \n",
       "number_of_cyclist_killed         0.00 \n",
       "number_of_motorist_injured       0.00 \n",
       "number_of_motorist_killed        0.00 \n",
       "contributing_factor_vehicle_1    0.26 \n",
       "contributing_factor_vehicle_2    13.44\n",
       "collision_id                     0.00 \n",
       "vehicle_type_code1               0.34 \n",
       "vehicle_type_code2               16.49\n",
       "dtype: float64"
      ]
     },
     "execution_count": 5,
     "metadata": {},
     "output_type": "execute_result"
    }
   ],
   "source": [
    "clean_crashes = crashes.dropna(thresh=(0.30 * crashes.shape[0]), axis=1).copy()\n",
    "clean_crashes.isnull().mean().round(4) * 100"
   ]
  },
  {
   "cell_type": "markdown",
   "metadata": {},
   "source": [
    "It still looks like we have columns we wont be using. It seems to me that `vehicle_type_code1` and `contributing_factor_vehicle_1` were significatly higher than the other 8 related columns. I suspect that the subsequent columns were filled out with additional data, but the first rows were the primary. I will drop the remaining subsequent rows now. I'm also dropping the street names, and `collision_id` as redundant data."
   ]
  },
  {
   "cell_type": "code",
   "execution_count": 6,
   "metadata": {},
   "outputs": [
    {
     "data": {
      "text/plain": [
       "accident_date                    0.00 \n",
       "accident_time                    0.00 \n",
       "borough                          30.33\n",
       "zip_code                         30.34\n",
       "latitude                         12.22\n",
       "longitude                        12.22\n",
       "location                         12.22\n",
       "number_of_persons_injured        0.00 \n",
       "number_of_persons_killed         0.00 \n",
       "number_of_pedestrians_injured    0.00 \n",
       "number_of_pedestrians_killed     0.00 \n",
       "number_of_cyclist_injured        0.00 \n",
       "number_of_cyclist_killed         0.00 \n",
       "number_of_motorist_injured       0.00 \n",
       "number_of_motorist_killed        0.00 \n",
       "contributing_factor_vehicle_1    0.26 \n",
       "vehicle_type_code1               0.34 \n",
       "dtype: float64"
      ]
     },
     "execution_count": 6,
     "metadata": {},
     "output_type": "execute_result"
    }
   ],
   "source": [
    "clean_crashes.drop(columns=[\"collision_id\", \"on_street_name\", \"off_street_name\", \"contributing_factor_vehicle_2\", \n",
    "                            \"vehicle_type_code2\"], inplace=True)\n",
    "clean_crashes.isnull().mean().round(4) * 100"
   ]
  },
  {
   "cell_type": "code",
   "execution_count": 7,
   "metadata": {},
   "outputs": [
    {
     "data": {
      "text/plain": [
       "(1608165, 17)"
      ]
     },
     "execution_count": 7,
     "metadata": {},
     "output_type": "execute_result"
    }
   ],
   "source": [
    "clean_crashes.shape"
   ]
  },
  {
   "cell_type": "markdown",
   "metadata": {},
   "source": [
    "That is a much cleaner data set. If I want to examine boroughs or zip codes, I will drop more data, but this is good enough for now.\n",
    "\n",
    "I noticed earlier that the `accident_date` column into was not a datetime object. I'll change that now to make the dataset easier to work with later."
   ]
  },
  {
   "cell_type": "code",
   "execution_count": 8,
   "metadata": {},
   "outputs": [
    {
     "data": {
      "text/html": [
       "<div>\n",
       "<style scoped>\n",
       "    .dataframe tbody tr th:only-of-type {\n",
       "        vertical-align: middle;\n",
       "    }\n",
       "\n",
       "    .dataframe tbody tr th {\n",
       "        vertical-align: top;\n",
       "    }\n",
       "\n",
       "    .dataframe thead th {\n",
       "        text-align: right;\n",
       "    }\n",
       "</style>\n",
       "<table border=\"1\" class=\"dataframe\">\n",
       "  <thead>\n",
       "    <tr style=\"text-align: right;\">\n",
       "      <th></th>\n",
       "      <th>accident_date</th>\n",
       "      <th>accident_time</th>\n",
       "      <th>borough</th>\n",
       "      <th>zip_code</th>\n",
       "      <th>latitude</th>\n",
       "      <th>longitude</th>\n",
       "      <th>location</th>\n",
       "      <th>number_of_persons_injured</th>\n",
       "      <th>number_of_persons_killed</th>\n",
       "      <th>number_of_pedestrians_injured</th>\n",
       "      <th>number_of_pedestrians_killed</th>\n",
       "      <th>number_of_cyclist_injured</th>\n",
       "      <th>number_of_cyclist_killed</th>\n",
       "      <th>number_of_motorist_injured</th>\n",
       "      <th>number_of_motorist_killed</th>\n",
       "      <th>contributing_factor_vehicle_1</th>\n",
       "      <th>vehicle_type_code1</th>\n",
       "    </tr>\n",
       "  </thead>\n",
       "  <tbody>\n",
       "    <tr>\n",
       "      <th>1608162</th>\n",
       "      <td>2012-09-02</td>\n",
       "      <td>14:30</td>\n",
       "      <td>QUEENS</td>\n",
       "      <td>11358</td>\n",
       "      <td>40.757961</td>\n",
       "      <td>-73.785662</td>\n",
       "      <td>POINT (-73.7856623 40.757961)</td>\n",
       "      <td>0.0</td>\n",
       "      <td>0.0</td>\n",
       "      <td>0</td>\n",
       "      <td>0</td>\n",
       "      <td>0</td>\n",
       "      <td>0</td>\n",
       "      <td>0</td>\n",
       "      <td>0</td>\n",
       "      <td>Prescription Medication</td>\n",
       "      <td>PASSENGER VEHICLE</td>\n",
       "    </tr>\n",
       "    <tr>\n",
       "      <th>1608163</th>\n",
       "      <td>2012-09-11</td>\n",
       "      <td>9:26</td>\n",
       "      <td>BROOKLYN</td>\n",
       "      <td>11211</td>\n",
       "      <td>40.717516</td>\n",
       "      <td>-73.943169</td>\n",
       "      <td>POINT (-73.943169 40.7175158)</td>\n",
       "      <td>0.0</td>\n",
       "      <td>0.0</td>\n",
       "      <td>0</td>\n",
       "      <td>0</td>\n",
       "      <td>0</td>\n",
       "      <td>0</td>\n",
       "      <td>0</td>\n",
       "      <td>0</td>\n",
       "      <td>Oversized Vehicle</td>\n",
       "      <td>OTHER</td>\n",
       "    </tr>\n",
       "    <tr>\n",
       "      <th>1608164</th>\n",
       "      <td>2012-09-05</td>\n",
       "      <td>17:10</td>\n",
       "      <td>QUEENS</td>\n",
       "      <td>11415</td>\n",
       "      <td>40.712001</td>\n",
       "      <td>-73.825456</td>\n",
       "      <td>POINT (-73.8254559 40.7120013)</td>\n",
       "      <td>1.0</td>\n",
       "      <td>0.0</td>\n",
       "      <td>1</td>\n",
       "      <td>0</td>\n",
       "      <td>0</td>\n",
       "      <td>0</td>\n",
       "      <td>0</td>\n",
       "      <td>0</td>\n",
       "      <td>Passenger Distraction</td>\n",
       "      <td>PASSENGER VEHICLE</td>\n",
       "    </tr>\n",
       "  </tbody>\n",
       "</table>\n",
       "</div>"
      ],
      "text/plain": [
       "        accident_date accident_time   borough zip_code   latitude  longitude  \\\n",
       "1608162 2012-09-02     14:30         QUEENS    11358    40.757961 -73.785662   \n",
       "1608163 2012-09-11     9:26          BROOKLYN  11211    40.717516 -73.943169   \n",
       "1608164 2012-09-05     17:10         QUEENS    11415    40.712001 -73.825456   \n",
       "\n",
       "                               location  number_of_persons_injured  \\\n",
       "1608162  POINT (-73.7856623 40.757961)   0.0                         \n",
       "1608163  POINT (-73.943169 40.7175158)   0.0                         \n",
       "1608164  POINT (-73.8254559 40.7120013)  1.0                         \n",
       "\n",
       "         number_of_persons_killed  number_of_pedestrians_injured  \\\n",
       "1608162  0.0                       0                               \n",
       "1608163  0.0                       0                               \n",
       "1608164  0.0                       1                               \n",
       "\n",
       "         number_of_pedestrians_killed  number_of_cyclist_injured  \\\n",
       "1608162  0                             0                           \n",
       "1608163  0                             0                           \n",
       "1608164  0                             0                           \n",
       "\n",
       "         number_of_cyclist_killed  number_of_motorist_injured  \\\n",
       "1608162  0                         0                            \n",
       "1608163  0                         0                            \n",
       "1608164  0                         0                            \n",
       "\n",
       "         number_of_motorist_killed contributing_factor_vehicle_1  \\\n",
       "1608162  0                          Prescription Medication        \n",
       "1608163  0                          Oversized Vehicle              \n",
       "1608164  0                          Passenger Distraction          \n",
       "\n",
       "        vehicle_type_code1  \n",
       "1608162  PASSENGER VEHICLE  \n",
       "1608163  OTHER              \n",
       "1608164  PASSENGER VEHICLE  "
      ]
     },
     "execution_count": 8,
     "metadata": {},
     "output_type": "execute_result"
    }
   ],
   "source": [
    "clean_crashes['accident_date'] = pd.to_datetime(clean_crashes['accident_date'])\n",
    "clean_crashes.tail(3)"
   ]
  },
  {
   "cell_type": "markdown",
   "metadata": {},
   "source": [
    "I want to turn our attention now to the types of vehicles that get into car crashes. Perhaps there is some pattern we can find in the data?"
   ]
  },
  {
   "cell_type": "code",
   "execution_count": 9,
   "metadata": {},
   "outputs": [
    {
     "data": {
      "text/plain": [
       "PASSENGER VEHICLE                      715236\n",
       "SPORT UTILITY / STATION WAGON          313500\n",
       "Sedan                                  156802\n",
       "Station Wagon/Sport Utility Vehicle    126994\n",
       "TAXI                                   50670 \n",
       "VAN                                    26540 \n",
       "OTHER                                  23982 \n",
       "PICK-UP TRUCK                          23069 \n",
       "UNKNOWN                                19929 \n",
       "Taxi                                   16247 \n",
       "SMALL COM VEH(4 TIRES)                 14559 \n",
       "LARGE COM VEH(6 OR MORE TIRES)         14527 \n",
       "BUS                                    14057 \n",
       "Pick-up Truck                          10529 \n",
       "LIVERY VEHICLE                         10481 \n",
       "Box Truck                              8244  \n",
       "Bus                                    6777  \n",
       "MOTORCYCLE                             6536  \n",
       "BICYCLE                                5568  \n",
       "Bike                                   3982  \n",
       "Tractor Truck Diesel                   3606  \n",
       "Van                                    2783  \n",
       "TK                                     2485  \n",
       "AMBULANCE                              2406  \n",
       "BU                                     2229  \n",
       "Motorcycle                             2014  \n",
       "Convertible                            1363  \n",
       "Dump                                   1220  \n",
       "DS                                     1006  \n",
       "Ambulance                              971   \n",
       "4 dr sedan                             886   \n",
       "FIRE TRUCK                             850   \n",
       "PK                                     843   \n",
       "Flat Bed                               787   \n",
       "Garbage or Refuse                      745   \n",
       "VN                                     712   \n",
       "Carry All                              618   \n",
       "Tractor Truck Gasoline                 515   \n",
       "Tow Truck / Wrecker                    418   \n",
       "CONV                                   398   \n",
       "Name: vehicle_type_code1, dtype: int64"
      ]
     },
     "execution_count": 9,
     "metadata": {},
     "output_type": "execute_result"
    }
   ],
   "source": [
    "clean_crashes['vehicle_type_code1'].value_counts().head(40)"
   ]
  },
  {
   "cell_type": "markdown",
   "metadata": {},
   "source": [
    "This is clearly a field where users fill in their own text answer. Let's try to consolidate the inputs."
   ]
  },
  {
   "cell_type": "code",
   "execution_count": 10,
   "metadata": {},
   "outputs": [
    {
     "data": {
      "text/plain": [
       "PASSENGER VEHICLE                 715236\n",
       "SUV                               440500\n",
       "Sedan                             156802\n",
       "Taxi                              66918 \n",
       "UNKNOWN                           43911 \n",
       "Pick-up Truck                     33598 \n",
       "Van                               30382 \n",
       "Bus                               20834 \n",
       "SMALL COM VEH(4 TIRES)            14559 \n",
       "LARGE COM VEH(6 OR MORE TIRES)    14527 \n",
       "LIVERY VEHICLE                    10481 \n",
       "BICYCLE                           9550  \n",
       "Motorcycle                        8673  \n",
       "Box Truck                         8247  \n",
       "Ambulance                         4018  \n",
       "Tractor Truck Diesel              3606  \n",
       "TK                                2485  \n",
       "BU                                2229  \n",
       "Dump                              1972  \n",
       "Convertible                       1761  \n",
       "FIRE TRUCK                        1058  \n",
       "DS                                1006  \n",
       "4 dr sedan                        886   \n",
       "PK                                843   \n",
       "Flat Bed                          787   \n",
       "SCOOTER                           673   \n",
       "Carry All                         618   \n",
       "Tractor Truck Gasoline            515   \n",
       "Tow Truck / Wrecker               418   \n",
       "DP                                367   \n",
       "Tanker                            259   \n",
       "Chassis Cab                       251   \n",
       "FB                                238   \n",
       "GG                                205   \n",
       "Concrete Mixer                    172   \n",
       "LL                                169   \n",
       "TR                                160   \n",
       "TT                                130   \n",
       "Flat Rack                         125   \n",
       "Armored Truck                     114   \n",
       "E-Sco                             111   \n",
       "TRAIL                             109   \n",
       "TRUCK                             101   \n",
       "Beverage Truck                    97    \n",
       "CB                                89    \n",
       "3-Door                            84    \n",
       "E-Bik                             80    \n",
       "TN                                77    \n",
       "Lift Boom                         72    \n",
       "RF                                56    \n",
       "Name: vehicle_type_code1, dtype: int64"
      ]
     },
     "execution_count": 10,
     "metadata": {},
     "output_type": "execute_result"
    }
   ],
   "source": [
    "clean_crashes['vehicle_type_code1'].replace('SPORT UTILITY / STATION WAGON', 'SUV', inplace=True)\n",
    "clean_crashes['vehicle_type_code1'].replace('Station Wagon/Sport Utility Vehicle', 'SUV', inplace=True)\n",
    "clean_crashes['vehicle_type_code1'].replace('TAXI', 'Taxi', inplace=True)\n",
    "clean_crashes['vehicle_type_code1'].replace('Bike', 'BICYCLE', inplace=True)\n",
    "clean_crashes['vehicle_type_code1'].replace('VAN', 'Van', inplace=True)\n",
    "clean_crashes['vehicle_type_code1'].replace('Motorscooter', 'SCOOTER', inplace=True)\n",
    "clean_crashes['vehicle_type_code1'].replace('Moped', 'SCOOTER', inplace=True)\n",
    "clean_crashes['vehicle_type_code1'].replace('van', 'Van', inplace=True)\n",
    "clean_crashes['vehicle_type_code1'].replace('MOTORCYCLE', 'Motorcycle', inplace=True)\n",
    "clean_crashes['vehicle_type_code1'].replace('AMBULANCE', 'Ambulance', inplace=True)\n",
    "clean_crashes['vehicle_type_code1'].replace('Refrigerated Van', 'Van', inplace=True)\n",
    "clean_crashes['vehicle_type_code1'].replace('PICK-UP TRUCK', 'Pick-up Truck', inplace=True)\n",
    "clean_crashes['vehicle_type_code1'].replace('Motorbike', 'Motorcycle', inplace=True)\n",
    "clean_crashes['vehicle_type_code1'].replace('AMBUL', 'Ambulance', inplace=True)\n",
    "clean_crashes['vehicle_type_code1'].replace('CAB', 'Taxi', inplace=True)\n",
    "clean_crashes['vehicle_type_code1'].replace('Cab', 'Taxi', inplace=True)\n",
    "clean_crashes['vehicle_type_code1'].replace('VAN T', 'Van', inplace=True)\n",
    "clean_crashes['vehicle_type_code1'].replace('VAN/T', 'Van', inplace=True)\n",
    "clean_crashes['vehicle_type_code1'].replace('van t', 'Van', inplace=True)\n",
    "clean_crashes['vehicle_type_code1'].replace('VAN', 'Van', inplace=True)\n",
    "clean_crashes['vehicle_type_code1'].replace('Ambul', 'Ambulance', inplace=True)\n",
    "clean_crashes['vehicle_type_code1'].replace('AMB', 'Ambulance', inplace=True)\n",
    "clean_crashes['vehicle_type_code1'].replace('Ambu', 'Ambulance', inplace=True)\n",
    "clean_crashes['vehicle_type_code1'].replace('ambul', 'Ambulance', inplace=True)\n",
    "clean_crashes['vehicle_type_code1'].replace('Ambu', 'Ambulance', inplace=True)\n",
    "clean_crashes['vehicle_type_code1'].replace('Fire', 'FIRE TRUCK', inplace=True)\n",
    "clean_crashes['vehicle_type_code1'].replace('fire', 'FIRE TRUCK', inplace=True)\n",
    "clean_crashes['vehicle_type_code1'].replace('FIRE', 'FIRE TRUCK', inplace=True)\n",
    "clean_crashes['vehicle_type_code1'].replace('FIRET', 'FIRE TRUCK', inplace=True)\n",
    "clean_crashes['vehicle_type_code1'].replace('FDNY', 'FIRE TRUCK', inplace=True)\n",
    "clean_crashes['vehicle_type_code1'].replace('Other', 'Unknown', inplace=True)\n",
    "clean_crashes['vehicle_type_code1'].replace('BUS', 'Bus', inplace=True)\n",
    "clean_crashes['vehicle_type_code1'].replace('Box T', 'Box Truck', inplace=True)\n",
    "clean_crashes['vehicle_type_code1'].replace('GARBA', 'Garbage or Refuse', inplace=True)\n",
    "clean_crashes['vehicle_type_code1'].replace('Taxi', 'Taxi', inplace=True)\n",
    "clean_crashes['vehicle_type_code1'].replace('taxy', 'Taxi', inplace=True)\n",
    "clean_crashes['vehicle_type_code1'].replace('taxi', 'Taxi', inplace=True)\n",
    "clean_crashes['vehicle_type_code1'].replace('AM', 'Ambulance', inplace=True)\n",
    "clean_crashes['vehicle_type_code1'].replace('VN', 'Van', inplace=True)\n",
    "clean_crashes['vehicle_type_code1'].replace('CONV', 'Convertible', inplace=True)\n",
    "clean_crashes['vehicle_type_code1'].replace('Garbage or Refuse', 'Dump', inplace=True)\n",
    "clean_crashes['vehicle_type_code1'].replace('OTHER', 'UNKNOWN', inplace=True)\n",
    "clean_crashes['vehicle_type_code1'].value_counts().head(50)"
   ]
  },
  {
   "cell_type": "markdown",
   "metadata": {},
   "source": [
    "There are so many values in a write in, we could clear it up all day, and still not be confident in the data... but we can try to do find some useful analysis. \n",
    "\n",
    "The 2 largest categories that have a comprable level of granularity are SUV and Sedans. SUVs tend to be larger, and we can see that there are more recorded crashes for them. But are they more dangerous? \n",
    "\n",
    "Let's sum up the number of fatalities into a new dataframe, and look at the 10 hieghest counts by vehicle type."
   ]
  },
  {
   "cell_type": "code",
   "execution_count": 11,
   "metadata": {},
   "outputs": [
    {
     "data": {
      "text/html": [
       "<div>\n",
       "<style scoped>\n",
       "    .dataframe tbody tr th:only-of-type {\n",
       "        vertical-align: middle;\n",
       "    }\n",
       "\n",
       "    .dataframe tbody tr th {\n",
       "        vertical-align: top;\n",
       "    }\n",
       "\n",
       "    .dataframe thead th {\n",
       "        text-align: right;\n",
       "    }\n",
       "</style>\n",
       "<table border=\"1\" class=\"dataframe\">\n",
       "  <thead>\n",
       "    <tr style=\"text-align: right;\">\n",
       "      <th></th>\n",
       "      <th>vehicle_type_code1</th>\n",
       "      <th>number_of_persons_killed</th>\n",
       "    </tr>\n",
       "  </thead>\n",
       "  <tbody>\n",
       "    <tr>\n",
       "      <th>317</th>\n",
       "      <td>PASSENGER VEHICLE</td>\n",
       "      <td>617.0</td>\n",
       "    </tr>\n",
       "    <tr>\n",
       "      <th>398</th>\n",
       "      <td>SUV</td>\n",
       "      <td>467.0</td>\n",
       "    </tr>\n",
       "    <tr>\n",
       "      <th>288</th>\n",
       "      <td>Motorcycle</td>\n",
       "      <td>168.0</td>\n",
       "    </tr>\n",
       "    <tr>\n",
       "      <th>406</th>\n",
       "      <td>Sedan</td>\n",
       "      <td>112.0</td>\n",
       "    </tr>\n",
       "    <tr>\n",
       "      <th>469</th>\n",
       "      <td>UNKNOWN</td>\n",
       "      <td>88.0</td>\n",
       "    </tr>\n",
       "    <tr>\n",
       "      <th>69</th>\n",
       "      <td>Bus</td>\n",
       "      <td>62.0</td>\n",
       "    </tr>\n",
       "    <tr>\n",
       "      <th>447</th>\n",
       "      <td>Taxi</td>\n",
       "      <td>50.0</td>\n",
       "    </tr>\n",
       "    <tr>\n",
       "      <th>234</th>\n",
       "      <td>LARGE COM VEH(6 OR MORE TIRES)</td>\n",
       "      <td>49.0</td>\n",
       "    </tr>\n",
       "    <tr>\n",
       "      <th>492</th>\n",
       "      <td>Van</td>\n",
       "      <td>45.0</td>\n",
       "    </tr>\n",
       "    <tr>\n",
       "      <th>344</th>\n",
       "      <td>Pick-up Truck</td>\n",
       "      <td>42.0</td>\n",
       "    </tr>\n",
       "  </tbody>\n",
       "</table>\n",
       "</div>"
      ],
      "text/plain": [
       "                 vehicle_type_code1  number_of_persons_killed\n",
       "317  PASSENGER VEHICLE               617.0                   \n",
       "398  SUV                             467.0                   \n",
       "288  Motorcycle                      168.0                   \n",
       "406  Sedan                           112.0                   \n",
       "469  UNKNOWN                         88.0                    \n",
       "69   Bus                             62.0                    \n",
       "447  Taxi                            50.0                    \n",
       "234  LARGE COM VEH(6 OR MORE TIRES)  49.0                    \n",
       "492  Van                             45.0                    \n",
       "344  Pick-up Truck                   42.0                    "
      ]
     },
     "execution_count": 11,
     "metadata": {},
     "output_type": "execute_result"
    }
   ],
   "source": [
    "vehicle_fatalities = clean_crashes.groupby('vehicle_type_code1').number_of_persons_killed.sum().reset_index().copy()\n",
    "vehicle_fatalities.nlargest(10, ['number_of_persons_killed']) "
   ]
  },
  {
   "cell_type": "markdown",
   "metadata": {},
   "source": [
    "Clearly `PASSENGER VEHICLE` vehicles are the most dangerous, leaving the groups sorted as is. The problem is, we cannot get more granular from this data set. It is a real limitation in allowing a fill-in answer type in the form, instead of selecting from a list. \n",
    "\n",
    "We can see that passenger vehicles are dangerous, but are some kinds of vehicles more dangerous than others. In the class of personal automabiles, then next two highest values with clear distinctions are SUVs and Sedans. SUV's seem *four* times more fatal than sedans, but is this just a trick of the numbers we have now?\n",
    "\n"
   ]
  },
  {
   "cell_type": "markdown",
   "metadata": {},
   "source": [
    "### Statistic Analysis<a id='Statistics'></a>\n",
    "We will perform a few two-sample t-tests, to let us know if there are statistically significant differences between the number of fatalities of different vehicle types.<br><div style=\"text-align: right\">[Begining of the page](#Top)</div>"
   ]
  },
  {
   "cell_type": "code",
   "execution_count": 12,
   "metadata": {},
   "outputs": [
    {
     "data": {
      "text/plain": [
       "Ttest_indResult(statistic=array([nan]), pvalue=array([nan]))"
      ]
     },
     "execution_count": 12,
     "metadata": {},
     "output_type": "execute_result"
    }
   ],
   "source": [
    "from scipy import stats\n",
    "stats.ttest_ind(clean_crashes[['number_of_persons_killed']][clean_crashes['vehicle_type_code1']==\"SUV\"], \n",
    "                clean_crashes[['number_of_persons_killed']][clean_crashes['vehicle_type_code1']==\"Sedan\"])"
   ]
  },
  {
   "cell_type": "markdown",
   "metadata": {},
   "source": [
    "`nan`? But why? Maybe it is because the `number_of_persons_killed` column is not an integer?"
   ]
  },
  {
   "cell_type": "code",
   "execution_count": 13,
   "metadata": {},
   "outputs": [
    {
     "name": "stdout",
     "output_type": "stream",
     "text": [
      "<class 'pandas.core.frame.DataFrame'>\n",
      "RangeIndex: 1608165 entries, 0 to 1608164\n",
      "Data columns (total 17 columns):\n",
      "accident_date                    1608165 non-null datetime64[ns]\n",
      "accident_time                    1608165 non-null object\n",
      "borough                          1120389 non-null object\n",
      "zip_code                         1120192 non-null object\n",
      "latitude                         1411650 non-null float64\n",
      "longitude                        1411650 non-null float64\n",
      "location                         1411650 non-null object\n",
      "number_of_persons_injured        1608148 non-null float64\n",
      "number_of_persons_killed         1608134 non-null float64\n",
      "number_of_pedestrians_injured    1608165 non-null int64\n",
      "number_of_pedestrians_killed     1608165 non-null int64\n",
      "number_of_cyclist_injured        1608165 non-null int64\n",
      "number_of_cyclist_killed         1608165 non-null int64\n",
      "number_of_motorist_injured       1608165 non-null int64\n",
      "number_of_motorist_killed        1608165 non-null int64\n",
      "contributing_factor_vehicle_1    1603926 non-null object\n",
      "vehicle_type_code1               1602769 non-null object\n",
      "dtypes: datetime64[ns](1), float64(4), int64(6), object(6)\n",
      "memory usage: 208.6+ MB\n"
     ]
    }
   ],
   "source": [
    "clean_crashes.info()"
   ]
  },
  {
   "cell_type": "markdown",
   "metadata": {},
   "source": [
    "We can see that 'number_of_persons_killed' and 'number_of_persons_injured' column values are float. Let's change them from float to integer. To do so, we will first get rid of any missing values in the 'persons_injured' and 'persons_killed' columns."
   ]
  },
  {
   "cell_type": "code",
   "execution_count": 14,
   "metadata": {},
   "outputs": [],
   "source": [
    "clean_crashes.dropna(subset = ['number_of_persons_injured'], how='all', inplace=True)\n",
    "clean_crashes.dropna(subset = ['number_of_persons_killed'], how='all', inplace=True)\n",
    "clean_crashes['number_of_persons_injured'] = clean_crashes.number_of_persons_injured.astype(int)\n",
    "clean_crashes['number_of_persons_killed'] = clean_crashes.number_of_persons_killed.astype(int)"
   ]
  },
  {
   "cell_type": "code",
   "execution_count": 15,
   "metadata": {},
   "outputs": [
    {
     "data": {
      "text/plain": [
       "Ttest_indResult(statistic=array([3.5973131]), pvalue=array([0.00032155]))"
      ]
     },
     "execution_count": 15,
     "metadata": {},
     "output_type": "execute_result"
    }
   ],
   "source": [
    "stats.ttest_ind(clean_crashes[['number_of_persons_killed']][clean_crashes['vehicle_type_code1']==\"SUV\"], \n",
    "                clean_crashes[['number_of_persons_killed']][clean_crashes['vehicle_type_code1']==\"Sedan\"])"
   ]
  },
  {
   "cell_type": "markdown",
   "metadata": {},
   "source": [
    "It looks like SUV's are more lethal, though not enough to outlaw them. The small p-value, two orders below .05, low enough to show that the slight difference is in fact statistically significant, and not a trick of our dataset."
   ]
  },
  {
   "cell_type": "markdown",
   "metadata": {},
   "source": [
    "I wonder though: Are SUVs even more dangerous for pedestrians? They are bigger..."
   ]
  },
  {
   "cell_type": "code",
   "execution_count": 16,
   "metadata": {},
   "outputs": [],
   "source": [
    "clean_crashes.dropna(subset = ['number_of_pedestrians_killed'], how='all', inplace=True)\n",
    "clean_crashes['number_of_pedestrians_killed'] = clean_crashes.number_of_pedestrians_killed.astype(int)"
   ]
  },
  {
   "cell_type": "code",
   "execution_count": 17,
   "metadata": {},
   "outputs": [
    {
     "data": {
      "text/plain": [
       "Ttest_indResult(statistic=array([4.9614584]), pvalue=array([6.99850216e-07]))"
      ]
     },
     "execution_count": 17,
     "metadata": {},
     "output_type": "execute_result"
    }
   ],
   "source": [
    "stats.ttest_ind(clean_crashes[['number_of_pedestrians_killed']][clean_crashes['vehicle_type_code1']==\"SUV\"], \n",
    "                clean_crashes[['number_of_pedestrians_killed']][clean_crashes['vehicle_type_code1']==\"Sedan\"])"
   ]
  },
  {
   "cell_type": "markdown",
   "metadata": {},
   "source": [
    "Wow!! It looks like the differences is greater (though not by much), but the pvalue is so small that there is almost no chance that the difference is random!\n",
    "\n",
    "I don't want to cherry pick though. Let's see if SUVs are significantly different to the largest/broadest set of fatal vehicle types: \"PASSENGER VEHICLE\"\t"
   ]
  },
  {
   "cell_type": "code",
   "execution_count": 18,
   "metadata": {},
   "outputs": [
    {
     "data": {
      "text/plain": [
       "Ttest_indResult(statistic=array([3.17566475]), pvalue=array([0.00149498]))"
      ]
     },
     "execution_count": 18,
     "metadata": {},
     "output_type": "execute_result"
    }
   ],
   "source": [
    "stats.ttest_ind(clean_crashes[['number_of_persons_killed']][clean_crashes['vehicle_type_code1']==\"SUV\"], \n",
    "                clean_crashes[['number_of_persons_killed']][clean_crashes['vehicle_type_code1']==\"PASSENGER VEHICLE\"])"
   ]
  },
  {
   "cell_type": "markdown",
   "metadata": {},
   "source": [
    "This seems similar to our first t-test. SUVs are slightly, but significatly more fatal to all people in NYC.\n",
    "Now to check for pedestrians."
   ]
  },
  {
   "cell_type": "code",
   "execution_count": 19,
   "metadata": {},
   "outputs": [
    {
     "data": {
      "text/plain": [
       "Ttest_indResult(statistic=array([5.55912561]), pvalue=array([2.71189122e-08]))"
      ]
     },
     "execution_count": 19,
     "metadata": {},
     "output_type": "execute_result"
    }
   ],
   "source": [
    "stats.ttest_ind(clean_crashes[['number_of_pedestrians_killed']][clean_crashes['vehicle_type_code1']==\"SUV\"], \n",
    "                clean_crashes[['number_of_pedestrians_killed']][clean_crashes['vehicle_type_code1']==\"PASSENGER VEHICLE\"])"
   ]
  },
  {
   "cell_type": "markdown",
   "metadata": {},
   "source": [
    "Yikes! this is even worse than comparing SUVs to Sedans!"
   ]
  },
  {
   "cell_type": "markdown",
   "metadata": {},
   "source": [
    "### Conclusion <a id='Conclusion'></a>\n",
    "\n",
    "This notebook provided a good analysis of fatalities in nyc car crashes, by behicle type. We were limited by the free-form nature of the values in the `vehicle_type_code1` column, but we able to group enough of the values into unique enough categories. \n",
    "\n",
    "We were able to compare some of those categories, and determine that some vehicles are more dangerous to the lives of New Yorkers than others. We were able to point out the raw numbers, but also prove that they had statistical signifigance. We also found that *strong* evidence of how dangerous SUVs are to pedestrians in NYC.\n",
    "\n",
    "One day, this analysis (or one like it) may help shift policy to help protect lives.\n",
    "<br><div style=\"text-align: right\">[Begining of the page](#Top)</div>"
   ]
  }
 ],
 "metadata": {
  "kernelspec": {
   "display_name": "Python 3",
   "language": "python",
   "name": "python3"
  },
  "language_info": {
   "codemirror_mode": {
    "name": "ipython",
    "version": 3
   },
   "file_extension": ".py",
   "mimetype": "text/x-python",
   "name": "python",
   "nbconvert_exporter": "python",
   "pygments_lexer": "ipython3",
   "version": "3.7.3"
  }
 },
 "nbformat": 4,
 "nbformat_minor": 2
}
