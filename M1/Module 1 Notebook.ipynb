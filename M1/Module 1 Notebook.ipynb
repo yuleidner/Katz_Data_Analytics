{
 "cells": [
  {
   "cell_type": "markdown",
   "metadata": {},
   "source": [
    "# <center>Module 1 Notebook</center>\n",
    "## <center>Demonstrating Markdown, Python Code Elements, and sharing on Github </center>\n",
    "#### <center> Alan Leidner Sept 2, 2019</center>"
   ]
  },
  {
   "cell_type": "markdown",
   "metadata": {},
   "source": [
    "### In this Module Assignment, I've been asked to provide the following:\n",
    "\n",
    "**Markdown Elements**\n",
    "* A Markdown header cell that contains a title, date, and your name\n",
    "* Markdown cells that explain various steps of your python code in language that’s easy for a non-technical stakeholder to understand\n",
    "* **Bold** and *italic* emphasis in appropriate locations\n",
    "* At least one bulleted or numbered list\n",
    "\n",
    "**Code Elements**\n",
    "* Optional, but fun: try [“import antigravity”](#Gravity_Cell). \n",
    "* Create a [numeric variable](#Numeric_Variable) and demonstrate simple math on that variable\n",
    "* Create a short [dictionary](#Dictionary_Example) that tells me something about yourself, e.g. your career goals, favorite sports teams, country you’re from.\n",
    "\n",
    "***\n",
    "**Upload the notebook to Github**\n",
    "* On https://yu.instructure.com/courses/37517/assignments/81939?module_item_id=379329, give the Github link to the folder that contains your notebook (the folder named \"Module_1\" or something similar.\n",
    "* Using Zoom or Screencast-O-Matic, record myself and/or my screen (2 minutes max), introducing myself and describing my code and explaining it to a naive stakeholder. For now, I'm just being graded on completing this, as I learn to explain your work smoothly and simply. Submit the video file or the link to your instructor!"
   ]
  },
  {
   "cell_type": "markdown",
   "metadata": {},
   "source": [
    "## Import Gravity Example  <a id='Gravity_Cell'></a> \n",
    "\n",
    "This cell uses the import function to call the antigravity library"
   ]
  },
  {
   "cell_type": "code",
   "execution_count": 29,
   "metadata": {},
   "outputs": [],
   "source": [
    "#Importing this library opens up a webcomic in a new browser window that gets high on how fun and easy python can be. \n",
    "import antigravity"
   ]
  },
  {
   "cell_type": "markdown",
   "metadata": {},
   "source": [
    "## Numeric Variable Example \n",
    "<a id='Numeric_Variable'></a> \n",
    "\n",
    "This section demostrates simple math on a variable"
   ]
  },
  {
   "cell_type": "markdown",
   "metadata": {},
   "source": [
    "The following cell creates a variable 'a' and sets it equla to the integer 5"
   ]
  },
  {
   "cell_type": "code",
   "execution_count": 23,
   "metadata": {},
   "outputs": [],
   "source": [
    "a = 5"
   ]
  },
  {
   "cell_type": "markdown",
   "metadata": {},
   "source": [
    "The following cell demonstrates a simple math function, in this case multiplying the variable 'a' by 5. \n",
    "If we alter 'a' above, and re-run this cell, our output would change accordingly"
   ]
  },
  {
   "cell_type": "code",
   "execution_count": 9,
   "metadata": {},
   "outputs": [
    {
     "data": {
      "text/plain": [
       "25"
      ]
     },
     "execution_count": 9,
     "metadata": {},
     "output_type": "execute_result"
    }
   ],
   "source": [
    "#'a' multiplied by 5. \n",
    "a*5"
   ]
  },
  {
   "cell_type": "markdown",
   "metadata": {},
   "source": [
    "The following cell demonstrates the Order of Operations, all while calling the original varriable two cells above."
   ]
  },
  {
   "cell_type": "code",
   "execution_count": 12,
   "metadata": {},
   "outputs": [
    {
     "data": {
      "text/plain": [
       "50"
      ]
     },
     "execution_count": 12,
     "metadata": {},
     "output_type": "execute_result"
    }
   ],
   "source": [
    "#doubles the multiple of 'a' by 'a' \n",
    "a*a+a*a"
   ]
  },
  {
   "cell_type": "markdown",
   "metadata": {},
   "source": [
    "The following cell demonstrates power (get it?) of simple math and order of operations, with ease of python."
   ]
  },
  {
   "cell_type": "code",
   "execution_count": 15,
   "metadata": {},
   "outputs": [
    {
     "data": {
      "text/plain": [
       "298023223876953125"
      ]
     },
     "execution_count": 15,
     "metadata": {},
     "output_type": "execute_result"
    }
   ],
   "source": [
    "# raises a to the powere of 'a' by 'a'\n",
    "a**(a*a)"
   ]
  },
  {
   "cell_type": "markdown",
   "metadata": {},
   "source": [
    "The following cell replaces the variable 'a' with the value of 'a' times itself"
   ]
  },
  {
   "cell_type": "code",
   "execution_count": 24,
   "metadata": {},
   "outputs": [],
   "source": [
    "a = a*a"
   ]
  },
  {
   "cell_type": "markdown",
   "metadata": {},
   "source": [
    "The following cell demonstrates that the variable a has been redefined/replaced as 'a' by 'a'"
   ]
  },
  {
   "cell_type": "code",
   "execution_count": 25,
   "metadata": {},
   "outputs": [
    {
     "data": {
      "text/plain": [
       "25"
      ]
     },
     "execution_count": 25,
     "metadata": {},
     "output_type": "execute_result"
    }
   ],
   "source": [
    "a"
   ]
  },
  {
   "cell_type": "markdown",
   "metadata": {},
   "source": [
    "## Dictionary Example  <a id='Dictionary_Example'></a> \n",
    "\n",
    "A dictionary of information about Alan Leidner"
   ]
  },
  {
   "cell_type": "markdown",
   "metadata": {},
   "source": [
    "The following cell creates a dictionary of information about Alan Leidner"
   ]
  },
  {
   "cell_type": "code",
   "execution_count": 26,
   "metadata": {},
   "outputs": [],
   "source": [
    "Leidner = {'Prefered Name':'Akiva', 'Professional Name':'Alan', 'Employer':'Shutterstock', \n",
    "           'Paranoia Level':'Maybe more information can be used to steal my identity?', 'Current hobby': 'Biking',\n",
    "           'Current book':'Factfulness'}"
   ]
  },
  {
   "cell_type": "markdown",
   "metadata": {},
   "source": [
    "The following cell demonstrates a way to pull information from a dictionary"
   ]
  },
  {
   "cell_type": "code",
   "execution_count": 27,
   "metadata": {},
   "outputs": [
    {
     "data": {
      "text/plain": [
       "'Maybe more information can be used to steal my identity?'"
      ]
     },
     "execution_count": 27,
     "metadata": {},
     "output_type": "execute_result"
    }
   ],
   "source": [
    "Leidner['Paranoia Level']"
   ]
  }
 ],
 "metadata": {
  "kernelspec": {
   "display_name": "Python 3",
   "language": "python",
   "name": "python3"
  },
  "language_info": {
   "codemirror_mode": {
    "name": "ipython",
    "version": 3
   },
   "file_extension": ".py",
   "mimetype": "text/x-python",
   "name": "python",
   "nbconvert_exporter": "python",
   "pygments_lexer": "ipython3",
   "version": "3.7.3"
  }
 },
 "nbformat": 4,
 "nbformat_minor": 2
}
