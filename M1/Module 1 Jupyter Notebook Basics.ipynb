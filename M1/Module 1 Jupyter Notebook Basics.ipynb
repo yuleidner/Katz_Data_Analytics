{
 "cells": [
  {
   "cell_type": "markdown",
   "metadata": {},
   "source": [
    "# <center>Module 1 Notebook</center>\n",
    "## <center>Demonstrating Markdown, Python Code Elements, and sharing on Github </center>\n",
    "#### <center> Alan Leidner Sept 2, 2019</center>"
   ]
  },
  {
   "cell_type": "markdown",
   "metadata": {},
   "source": [
    "### In this Module Assignment, I've been asked to provide the following:\n",
    "\n",
    "**Markdown Elements**\n",
    "* A Markdown header cell that contains a title, date, and your name\n",
    "* Markdown cells that explain various steps of your python code in language that’s easy for a non-technical stakeholder to understand\n",
    "* **Bold** and *italic* emphasis in appropriate locations\n",
    "* At least one bulleted or numbered list\n",
    "\n",
    "**Code Elements**\n",
    "* Optional, but fun: try “import antigravity”.\n",
    "* Create a numeric variable and demonstrate simple math on that variable\n",
    "* Create a short dictionary that tells me something about yourself, e.g. your career goals, favorite sports teams, country you’re from.\n",
    "\n",
    "**Upload the notebook to Github**\n",
    "* On https://yu.instructure.com/courses/37517/assignments/81939?module_item_id=379329, give the Github link to the folder that contains your notebook (the folder named \"Module_1\" or something similar.\n",
    "* Using Zoom or Screencast-O-Matic, record myself and/or my screen (2 minutes max), introducing myself and describing my code and explaining it to a naive stakeholder. For now, I'm just being graded on completing this, as I learn to explain your work smoothly and simply. Submit the video file or the link to your instructor!"
   ]
  },
  {
   "cell_type": "code",
   "execution_count": 16,
   "metadata": {},
   "outputs": [],
   "source": [
    "import antigravity"
   ]
  },
  {
   "cell_type": "code",
   "execution_count": null,
   "metadata": {},
   "outputs": [],
   "source": []
  }
 ],
 "metadata": {
  "kernelspec": {
   "display_name": "Python 3",
   "language": "python",
   "name": "python3"
  },
  "language_info": {
   "codemirror_mode": {
    "name": "ipython",
    "version": 3
   },
   "file_extension": ".py",
   "mimetype": "text/x-python",
   "name": "python",
   "nbconvert_exporter": "python",
   "pygments_lexer": "ipython3",
   "version": "3.7.3"
  }
 },
 "nbformat": 4,
 "nbformat_minor": 2
}
