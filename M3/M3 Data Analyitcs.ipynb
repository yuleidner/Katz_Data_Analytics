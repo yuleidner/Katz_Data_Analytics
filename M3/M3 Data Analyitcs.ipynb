{
 "cells": [
  {
   "cell_type": "markdown",
   "metadata": {},
   "source": [
    "<a id='Top'></a>\n",
    "# <center>Analytics Programming: Module 2</center>  \n",
    "## <center>Demonstrating lists, loops, and comprehensions, supported by a README file </center>\n",
    "#### <center> Alan Leidner Sept 15, 2019</center>"
   ]
  },
  {
   "cell_type": "markdown",
   "metadata": {},
   "source": [
    "## 1) Create a list of all lower case letters and a separate list of the numbers 1-26. "
   ]
  },
  {
   "cell_type": "code",
   "execution_count": 3,
   "metadata": {},
   "outputs": [],
   "source": [
    "letters = ['a','b','c','d','e','f','g','h','i','j','k','l','m','n','o','p','q','r','s','t','u','v','w','x','y','z']\n",
    "numbers = [1,2,3,4,5,6,7,8,9,10,11,12,13,14,15,16,17,18,19,20,21,22,23,24,25,26]"
   ]
  },
  {
   "cell_type": "markdown",
   "metadata": {},
   "source": [
    "## 2) Use a for loop to print \" [ number ] is a multiple of 4\"\n",
    "* substitute the appropriate number, every time the number in your list of numbers is, in fact, a multiple of 4 (divides into 4 with no remainder)\"."
   ]
  },
  {
   "cell_type": "code",
   "execution_count": 5,
   "metadata": {},
   "outputs": [
    {
     "name": "stdout",
     "output_type": "stream",
     "text": [
      "4 is a multiple of 4\n",
      "8 is a multiple of 4\n",
      "12 is a multiple of 4\n",
      "16 is a multiple of 4\n",
      "20 is a multiple of 4\n",
      "24 is a multiple of 4\n"
     ]
    }
   ],
   "source": [
    "for i in numbers:\n",
    "    if i % 4 == 0:\n",
    "        print(f'{i} is a multiple of 4')\n",
    "    "
   ]
  },
  {
   "cell_type": "markdown",
   "metadata": {},
   "source": [
    "## 3) Print both lists and print their types.\n",
    "\n",
    "* When you print the types, print the types in a sentence where you concatenate (paste together) some words and the output of \"type()\".\n",
    "* Not sure how to make the output of type into a printable string? Try \"str()\"!\n",
    "* The output could look something like \"letters is of type <class 'list'>\"."
   ]
  },
  {
   "cell_type": "code",
   "execution_count": 51,
   "metadata": {},
   "outputs": [
    {
     "name": "stdout",
     "output_type": "stream",
     "text": [
      "letters is of type <class 'list'>\n",
      "['a', 'b', 'c', 'd', 'e', 'f', 'g', 'h', 'i', 'j', 'k', 'l', 'm', 'n', 'o', 'p', 'q', 'r', 's', 't', 'u', 'v', 'w', 'x', 'y', 'z']\n",
      "\n",
      "\n",
      "numbers is of type <class 'list'>\n",
      "[1, 2, 3, 4, 5, 6, 7, 8, 9, 10, 11, 12, 13, 14, 15, 16, 17, 18, 19, 20, 21, 22, 23, 24, 25, 26]\n"
     ]
    }
   ],
   "source": [
    "print(f'letters is of type {type(letters)}') \n",
    "print (letters)\n",
    "print('\\n')\n",
    "print(f'numbers is of type {type(numbers)}') \n",
    "print (numbers)"
   ]
  },
  {
   "cell_type": "markdown",
   "metadata": {},
   "source": [
    "## 4) Using zip, create a list of tuples, where each tuple consists of the lower case letter and its numerical equivalent, 1-26. \n",
    "* You could call this \"tupleList\" or something equally helpful.\n",
    "* Print the list of tuples you just created"
   ]
  },
  {
   "cell_type": "code",
   "execution_count": 31,
   "metadata": {},
   "outputs": [],
   "source": [
    "tupleList = list(zip(letters,numbers))"
   ]
  },
  {
   "cell_type": "code",
   "execution_count": 29,
   "metadata": {},
   "outputs": [
    {
     "data": {
      "text/plain": [
       "[('a', 1),\n",
       " ('b', 2),\n",
       " ('c', 3),\n",
       " ('d', 4),\n",
       " ('e', 5),\n",
       " ('f', 6),\n",
       " ('g', 7),\n",
       " ('h', 8),\n",
       " ('i', 9),\n",
       " ('j', 10),\n",
       " ('k', 11),\n",
       " ('l', 12),\n",
       " ('m', 13),\n",
       " ('n', 14),\n",
       " ('o', 15),\n",
       " ('p', 16),\n",
       " ('q', 17),\n",
       " ('r', 18),\n",
       " ('s', 19),\n",
       " ('t', 20),\n",
       " ('u', 21),\n",
       " ('v', 22),\n",
       " ('w', 23),\n",
       " ('x', 24),\n",
       " ('y', 25),\n",
       " ('z', 26)]"
      ]
     },
     "execution_count": 29,
     "metadata": {},
     "output_type": "execute_result"
    }
   ],
   "source": [
    "tupleList"
   ]
  },
  {
   "cell_type": "markdown",
   "metadata": {},
   "source": [
    "## 6) Print the type of the list and the type of the first element in that list.\n",
    "* Again, printing the type in a sentence you compose by concatenating a string with the output of \"type()\"."
   ]
  },
  {
   "cell_type": "code",
   "execution_count": 34,
   "metadata": {},
   "outputs": [
    {
     "name": "stdout",
     "output_type": "stream",
     "text": [
      "tupleList is of type <class 'list'>, and the first element is ('a', 1)\n"
     ]
    }
   ],
   "source": [
    "print(f'tupleList is of type {type(tupleList)}, and the first element is {tupleList[0]}') "
   ]
  },
  {
   "cell_type": "markdown",
   "metadata": {},
   "source": [
    "## 7) Using list comprehension, create a list of letters for which have ordinal values (1-26) that are multiples of 4."
   ]
  },
  {
   "cell_type": "code",
   "execution_count": 53,
   "metadata": {},
   "outputs": [
    {
     "data": {
      "text/plain": [
       "['d', 'h', 'l', 'p', 't', 'x']"
      ]
     },
     "execution_count": 53,
     "metadata": {},
     "output_type": "execute_result"
    }
   ],
   "source": [
    "letter_mod_four = [i[0] for i in tupleList if i[1] % 4 ==0]\n",
    "letter_mod_four"
   ]
  },
  {
   "cell_type": "markdown",
   "metadata": {},
   "source": [
    "# <center>[“Begining of the page”](#Top)</center>"
   ]
  }
 ],
 "metadata": {
  "kernelspec": {
   "display_name": "Python 3",
   "language": "python",
   "name": "python3"
  },
  "language_info": {
   "codemirror_mode": {
    "name": "ipython",
    "version": 3
   },
   "file_extension": ".py",
   "mimetype": "text/x-python",
   "name": "python",
   "nbconvert_exporter": "python",
   "pygments_lexer": "ipython3",
   "version": "3.7.3"
  }
 },
 "nbformat": 4,
 "nbformat_minor": 2
}
