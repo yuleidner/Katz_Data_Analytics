{
 "cells": [
  {
   "cell_type": "markdown",
   "metadata": {},
   "source": [
    "<a id='Top'></a>\n",
    "<h1> <center>Analytics Programming: Module 3</center> </h1>\n",
    "<p><h2><center>Unicode, algorythms, dictionaries, encoding functions,</center> \n",
    "<center>in addition to <a href=\"https://github.com/yuleidner/Katz_Data_Analytics/blob/master/M2/M2%20Data%20Analyitcs.ipynb\">M2</a> lists, loops, and comprehensions, </center>\n",
    "<center>supported by a README file </center></h2></p>\n",
    "\n",
    "#### <center> Alan Leidner Sept 16, 2019</center>\n",
    "[“M2 Work”](#M2) <br>\n",
    "[“M3 Work”](#M3)"
   ]
  },
  {
   "cell_type": "markdown",
   "metadata": {},
   "source": [
    "# M2 <a id='M2'></a>"
   ]
  },
  {
   "cell_type": "markdown",
   "metadata": {},
   "source": [
    "## 1) Create a list of all lower case letters and a separate list of the numbers 1-26. "
   ]
  },
  {
   "cell_type": "code",
   "execution_count": 3,
   "metadata": {},
   "outputs": [],
   "source": [
    "letters = ['a','b','c','d','e','f','g','h','i','j','k','l','m','n','o','p','q','r','s','t','u','v','w','x','y','z']\n",
    "numbers = [1,2,3,4,5,6,7,8,9,10,11,12,13,14,15,16,17,18,19,20,21,22,23,24,25,26]"
   ]
  },
  {
   "cell_type": "markdown",
   "metadata": {},
   "source": [
    "## 2) Use a for loop to print \" [ number ] is a multiple of 4\"\n",
    "* substitute the appropriate number, every time the number in your list of numbers is, in fact, a multiple of 4 (divides into 4 with no remainder)\"."
   ]
  },
  {
   "cell_type": "code",
   "execution_count": 5,
   "metadata": {},
   "outputs": [
    {
     "name": "stdout",
     "output_type": "stream",
     "text": [
      "4 is a multiple of 4\n",
      "8 is a multiple of 4\n",
      "12 is a multiple of 4\n",
      "16 is a multiple of 4\n",
      "20 is a multiple of 4\n",
      "24 is a multiple of 4\n"
     ]
    }
   ],
   "source": [
    "for i in numbers:\n",
    "    if i % 4 == 0:\n",
    "        print(f'{i} is a multiple of 4')\n",
    "    "
   ]
  },
  {
   "cell_type": "markdown",
   "metadata": {},
   "source": [
    "## 3) Print both lists and print their types.\n",
    "\n",
    "* When you print the types, print the types in a sentence where you concatenate (paste together) some words and the output of \"type()\".\n",
    "* Not sure how to make the output of type into a printable string? Try \"str()\"!\n",
    "* The output could look something like \"letters is of type <class 'list'>\"."
   ]
  },
  {
   "cell_type": "code",
   "execution_count": 51,
   "metadata": {},
   "outputs": [
    {
     "name": "stdout",
     "output_type": "stream",
     "text": [
      "letters is of type <class 'list'>\n",
      "['a', 'b', 'c', 'd', 'e', 'f', 'g', 'h', 'i', 'j', 'k', 'l', 'm', 'n', 'o', 'p', 'q', 'r', 's', 't', 'u', 'v', 'w', 'x', 'y', 'z']\n",
      "\n",
      "\n",
      "numbers is of type <class 'list'>\n",
      "[1, 2, 3, 4, 5, 6, 7, 8, 9, 10, 11, 12, 13, 14, 15, 16, 17, 18, 19, 20, 21, 22, 23, 24, 25, 26]\n"
     ]
    }
   ],
   "source": [
    "print(f'letters is of type {type(letters)}') \n",
    "print (letters)\n",
    "print('\\n')\n",
    "print(f'numbers is of type {type(numbers)}') \n",
    "print (numbers)"
   ]
  },
  {
   "cell_type": "markdown",
   "metadata": {},
   "source": [
    "## 4) Using zip, create a list of tuples, where each tuple consists of the lower case letter and its numerical equivalent, 1-26. \n",
    "* You could call this \"tupleList\" or something equally helpful.\n",
    "* Print the list of tuples you just created"
   ]
  },
  {
   "cell_type": "code",
   "execution_count": 31,
   "metadata": {},
   "outputs": [],
   "source": [
    "tupleList = list(zip(letters,numbers))"
   ]
  },
  {
   "cell_type": "code",
   "execution_count": 29,
   "metadata": {},
   "outputs": [
    {
     "data": {
      "text/plain": [
       "[('a', 1),\n",
       " ('b', 2),\n",
       " ('c', 3),\n",
       " ('d', 4),\n",
       " ('e', 5),\n",
       " ('f', 6),\n",
       " ('g', 7),\n",
       " ('h', 8),\n",
       " ('i', 9),\n",
       " ('j', 10),\n",
       " ('k', 11),\n",
       " ('l', 12),\n",
       " ('m', 13),\n",
       " ('n', 14),\n",
       " ('o', 15),\n",
       " ('p', 16),\n",
       " ('q', 17),\n",
       " ('r', 18),\n",
       " ('s', 19),\n",
       " ('t', 20),\n",
       " ('u', 21),\n",
       " ('v', 22),\n",
       " ('w', 23),\n",
       " ('x', 24),\n",
       " ('y', 25),\n",
       " ('z', 26)]"
      ]
     },
     "execution_count": 29,
     "metadata": {},
     "output_type": "execute_result"
    }
   ],
   "source": [
    "tupleList"
   ]
  },
  {
   "cell_type": "markdown",
   "metadata": {},
   "source": [
    "## 6) Print the type of the list and the type of the first element in that list.\n",
    "* Again, printing the type in a sentence you compose by concatenating a string with the output of \"type()\"."
   ]
  },
  {
   "cell_type": "code",
   "execution_count": 34,
   "metadata": {},
   "outputs": [
    {
     "name": "stdout",
     "output_type": "stream",
     "text": [
      "tupleList is of type <class 'list'>, and the first element is ('a', 1)\n"
     ]
    }
   ],
   "source": [
    "print(f'tupleList is of type {type(tupleList)}, and the first element is {tupleList[0]}') "
   ]
  },
  {
   "cell_type": "markdown",
   "metadata": {},
   "source": [
    "## 7) Using list comprehension, create a list of letters for which have ordinal values (1-26) that are multiples of 4."
   ]
  },
  {
   "cell_type": "code",
   "execution_count": 53,
   "metadata": {},
   "outputs": [
    {
     "data": {
      "text/plain": [
       "['d', 'h', 'l', 'p', 't', 'x']"
      ]
     },
     "execution_count": 53,
     "metadata": {},
     "output_type": "execute_result"
    }
   ],
   "source": [
    "letter_mod_four = [i[0] for i in tupleList if i[1] % 4 ==0]\n",
    "letter_mod_four"
   ]
  },
  {
   "cell_type": "markdown",
   "metadata": {},
   "source": [
    "# M3 <a id='M3'></a>"
   ]
  },
  {
   "cell_type": "markdown",
   "metadata": {},
   "source": [
    "## 1) On the backend of a computer, characters are represented by something called a unicode value. This value ensures all systems across languages and countries can talk to each other using the same backend language. Here, I am using a for loop to show the unicode value of each lowercase letter, using ord() function."
   ]
  },
  {
   "cell_type": "code",
   "execution_count": 15,
   "metadata": {},
   "outputs": [
    {
     "name": "stdout",
     "output_type": "stream",
     "text": [
      "97\n",
      "98\n",
      "99\n",
      "100\n",
      "101\n",
      "102\n",
      "103\n",
      "104\n",
      "105\n",
      "106\n",
      "107\n",
      "108\n",
      "109\n",
      "110\n",
      "111\n",
      "112\n",
      "113\n",
      "114\n",
      "115\n",
      "116\n",
      "117\n",
      "118\n",
      "119\n",
      "120\n",
      "121\n",
      "122\n"
     ]
    }
   ],
   "source": [
    "for a in letters:\n",
    "    print (ord(a))"
   ]
  },
  {
   "cell_type": "markdown",
   "metadata": {},
   "source": [
    "## Note: For clarity's sake, I am creating a new list of lowercase letters using the String Library"
   ]
  },
  {
   "cell_type": "code",
   "execution_count": 68,
   "metadata": {},
   "outputs": [
    {
     "data": {
      "text/plain": [
       "['a',\n",
       " 'b',\n",
       " 'c',\n",
       " 'd',\n",
       " 'e',\n",
       " 'f',\n",
       " 'g',\n",
       " 'h',\n",
       " 'i',\n",
       " 'j',\n",
       " 'k',\n",
       " 'l',\n",
       " 'm',\n",
       " 'n',\n",
       " 'o',\n",
       " 'p',\n",
       " 'q',\n",
       " 'r',\n",
       " 's',\n",
       " 't',\n",
       " 'u',\n",
       " 'v',\n",
       " 'w',\n",
       " 'x',\n",
       " 'y',\n",
       " 'z']"
      ]
     },
     "execution_count": 68,
     "metadata": {},
     "output_type": "execute_result"
    }
   ],
   "source": [
    "import string\n",
    "lowercase_letters = list(string.ascii_lowercase)\n",
    "lowercase_letters"
   ]
  },
  {
   "cell_type": "markdown",
   "metadata": {},
   "source": [
    "## 2) Here I have demonstrated an algorythm that iterates over a list of lowercase letters, and returns a list of unique values that have been mathematically modified from their unicode values. \n",
    "### The algorythm first creates an empty list, which is then populated by a loop which squares the unicode value of those letters. \n",
    "### The algorythm rejects a resulting list if there are not 26 values, indicating some letters may have been lost or that other characters made there way into our list. \n",
    "#### This is unlikely due to the cell above where we created a new list from the string library"
   ]
  },
  {
   "cell_type": "code",
   "execution_count": 186,
   "metadata": {},
   "outputs": [
    {
     "name": "stdout",
     "output_type": "stream",
     "text": [
      "[9409, 9604, 9801, 10000, 10201, 10404, 10609, 10816, 11025, 11236, 11449, 11664, 11881, 12100, 12321, 12544, 12769, 12996, 13225, 13456, 13689, 13924, 14161, 14400, 14641, 14884]\n"
     ]
    }
   ],
   "source": [
    "mathed_letters = []\n",
    "for a in lowercase_letters:\n",
    "    mathed_letters.append(ord(a)**2)\n",
    "if len(mathed_letters) == 26:\n",
    "    print (mathed_letters)\n",
    "else:\n",
    "    print ('Error your list has too many values for the english language lowercase letters')"
   ]
  },
  {
   "cell_type": "markdown",
   "metadata": {},
   "source": [
    "## 3) Here, I have combined my list of lowercase letters with its coresponding list of squared unicode values\n",
    "\n",
    "### I have zipped these values into a Dictionary, which ensures that each letter and number are a pair."
   ]
  },
  {
   "cell_type": "code",
   "execution_count": 70,
   "metadata": {},
   "outputs": [
    {
     "data": {
      "text/plain": [
       "{'a': 9409,\n",
       " 'b': 9604,\n",
       " 'c': 9801,\n",
       " 'd': 10000,\n",
       " 'e': 10201,\n",
       " 'f': 10404,\n",
       " 'g': 10609,\n",
       " 'h': 10816,\n",
       " 'i': 11025,\n",
       " 'j': 11236,\n",
       " 'k': 11449,\n",
       " 'l': 11664,\n",
       " 'm': 11881,\n",
       " 'n': 12100,\n",
       " 'o': 12321,\n",
       " 'p': 12544,\n",
       " 'q': 12769,\n",
       " 'r': 12996,\n",
       " 's': 13225,\n",
       " 't': 13456,\n",
       " 'u': 13689,\n",
       " 'v': 13924,\n",
       " 'w': 14161,\n",
       " 'x': 14400,\n",
       " 'y': 14641,\n",
       " 'z': 14884}"
      ]
     },
     "execution_count": 70,
     "metadata": {},
     "output_type": "execute_result"
    }
   ],
   "source": [
    "zipped = dict(zip(lowercase_letters, mathed_letters))\n",
    "zipped"
   ]
  },
  {
   "cell_type": "markdown",
   "metadata": {},
   "source": [
    "## 4) Here I have created my first function.\n",
    "\n",
    "### This function iterates over a keyword arguement. \n",
    "* If that arguemnt is not a string, the function existrs with an error message\n",
    "* If that arguement consists *only* of lowercase letters in a string then the function returns a list of the squared values of those letters.\n",
    "* If the function iterates over a character that isnt a lowercase letter, the function returns an error indicating the problem, but still returns the list until that point."
   ]
  },
  {
   "cell_type": "code",
   "execution_count": 265,
   "metadata": {},
   "outputs": [],
   "source": [
    "def encode_lowercase_function(string):\n",
    "    string_encoded =[]\n",
    "    if type(string) != str:\n",
    "        return (f'Error: {string} must be a string consisting ONLY of lowercase letters')\n",
    "    else:\n",
    "        for x in string:\n",
    "            try:\n",
    "                string_encoded.append(zipped[x])\n",
    "            except: \n",
    "                print(f'Error: The input string may only contain lowercase letters. {x} does not meet the criteria, and the funcction returns values only until {x}.') \n",
    "                break\n",
    "        return string_encoded\n",
    "        "
   ]
  },
  {
   "cell_type": "markdown",
   "metadata": {},
   "source": [
    "## 5) Example using the function with the word \"hello\"."
   ]
  },
  {
   "cell_type": "code",
   "execution_count": 263,
   "metadata": {},
   "outputs": [
    {
     "data": {
      "text/plain": [
       "[10816, 10201, 11664, 11664, 12321]"
      ]
     },
     "execution_count": 263,
     "metadata": {},
     "output_type": "execute_result"
    }
   ],
   "source": [
    "encode_lowercase_function('hello')"
   ]
  },
  {
   "cell_type": "markdown",
   "metadata": {},
   "source": [
    "## 6) Example using the function with the string “hello there”."
   ]
  },
  {
   "cell_type": "code",
   "execution_count": 269,
   "metadata": {},
   "outputs": [
    {
     "name": "stdout",
     "output_type": "stream",
     "text": [
      "Error: The input string may only contain lowercase letters.   does not meet the criteria, and the funcction returns values only until  .\n"
     ]
    },
    {
     "data": {
      "text/plain": [
       "[10816, 10201, 11664, 11664, 12321]"
      ]
     },
     "execution_count": 269,
     "metadata": {},
     "output_type": "execute_result"
    }
   ],
   "source": [
    "encode_lowercase_function('hello there')"
   ]
  },
  {
   "cell_type": "markdown",
   "metadata": {},
   "source": [
    "## 7) Example using the function with the a variable that is not type string."
   ]
  },
  {
   "cell_type": "code",
   "execution_count": 270,
   "metadata": {},
   "outputs": [
    {
     "data": {
      "text/plain": [
       "'Error: 9 must be a string consisting ONLY of lowercase letters'"
      ]
     },
     "execution_count": 270,
     "metadata": {},
     "output_type": "execute_result"
    }
   ],
   "source": [
    "encode_lowercase_function(9)"
   ]
  },
  {
   "cell_type": "markdown",
   "metadata": {},
   "source": [
    "# <center>[“M2 Work”](#M2) <br>[“M3 Work”](#M3)<br>[“Begining of the page”](#Top)</center>\n",
    "\n"
   ]
  }
 ],
 "metadata": {
  "kernelspec": {
   "display_name": "Python 3",
   "language": "python",
   "name": "python3"
  },
  "language_info": {
   "codemirror_mode": {
    "name": "ipython",
    "version": 3
   },
   "file_extension": ".py",
   "mimetype": "text/x-python",
   "name": "python",
   "nbconvert_exporter": "python",
   "pygments_lexer": "ipython3",
   "version": "3.7.3"
  }
 },
 "nbformat": 4,
 "nbformat_minor": 2
}
