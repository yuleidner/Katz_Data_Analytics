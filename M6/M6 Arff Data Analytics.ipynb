{
 "cells": [
  {
   "cell_type": "markdown",
   "metadata": {},
   "source": [
    "<a id='Top'></a>\n",
    "<h1> <center>Analytics Programming: Module 6</center> </h1>\n",
    "<p><h2><center>Data Analysis of a .arff file of training data for phishing websites</center> \n",
    "<center>supported by a <a href=\"https://github.com/yuleidner/Katz_Data_Analytics/blob/master/M6/README.md\">M6 README file </a></center></h2></p>\n",
    "<p><h3><center>This data is used to create models that help flag emails as potentially dangerous</center></h3></p>\n",
    "\n",
    "#### <center>Alan Leidner Oct 11, 2019</center>"
   ]
  },
  {
   "cell_type": "markdown",
   "metadata": {},
   "source": [
    "## \"We begin by ingesting the data, which I've downloaded already.  We'll need the `arff` module in `scipy.io` to analyze this file format. We'll take a peek at the data before we bring it in to pandas.\"\n",
    "#### You can download your own copy of the file here: https://archive.ics.uci.edu/ml/datasets/phishing+websites#"
   ]
  },
  {
   "cell_type": "code",
   "execution_count": 1,
   "metadata": {},
   "outputs": [],
   "source": [
    "from scipy.io import arff\n",
    "email_data = arff.loadarff('/Users/leidner/Downloads/Training_Dataset.arff')"
   ]
  },
  {
   "cell_type": "code",
   "execution_count": 2,
   "metadata": {},
   "outputs": [
    {
     "data": {
      "text/plain": [
       "tuple"
      ]
     },
     "execution_count": 2,
     "metadata": {},
     "output_type": "execute_result"
    }
   ],
   "source": [
    "type(email_data)"
   ]
  },
  {
   "cell_type": "code",
   "execution_count": 3,
   "metadata": {},
   "outputs": [
    {
     "data": {
      "text/plain": [
       "2"
      ]
     },
     "execution_count": 3,
     "metadata": {},
     "output_type": "execute_result"
    }
   ],
   "source": [
    "len(email_data)"
   ]
  },
  {
   "cell_type": "markdown",
   "metadata": {},
   "source": [
    "### It looks like the `arff` file is a tuple, with two immutable lists. Let's take a quick look at them so we know what we're working with"
   ]
  },
  {
   "cell_type": "code",
   "execution_count": 4,
   "metadata": {},
   "outputs": [
    {
     "data": {
      "text/plain": [
       "array([(b'-1', b'1', b'1', b'1', b'-1', b'-1', b'-1', b'-1', b'-1', b'1', b'1', b'-1', b'1', b'-1', b'1', b'-1', b'-1', b'-1', b'0', b'1', b'1', b'1', b'1', b'-1', b'-1', b'-1', b'-1', b'1', b'1', b'-1', b'-1'),\n",
       "       (b'1', b'1', b'1', b'1', b'1', b'-1', b'0', b'1', b'-1', b'1', b'1', b'-1', b'1', b'0', b'-1', b'-1', b'1', b'1', b'0', b'1', b'1', b'1', b'1', b'-1', b'-1', b'0', b'-1', b'1', b'1', b'1', b'-1'),\n",
       "       (b'1', b'0', b'1', b'1', b'1', b'-1', b'-1', b'-1', b'-1', b'1', b'1', b'-1', b'1', b'0', b'-1', b'-1', b'-1', b'-1', b'0', b'1', b'1', b'1', b'1', b'1', b'-1', b'1', b'-1', b'1', b'0', b'-1', b'-1'),\n",
       "       ...,\n",
       "       (b'1', b'-1', b'1', b'1', b'1', b'-1', b'1', b'-1', b'-1', b'1', b'1', b'1', b'1', b'0', b'-1', b'-1', b'1', b'1', b'0', b'1', b'1', b'1', b'1', b'1', b'1', b'1', b'-1', b'1', b'0', b'1', b'-1'),\n",
       "       (b'-1', b'-1', b'1', b'1', b'1', b'-1', b'-1', b'-1', b'1', b'-1', b'1', b'1', b'-1', b'-1', b'1', b'-1', b'1', b'1', b'0', b'-1', b'1', b'-1', b'1', b'1', b'1', b'1', b'-1', b'1', b'1', b'1', b'-1'),\n",
       "       (b'-1', b'-1', b'1', b'1', b'1', b'-1', b'-1', b'-1', b'1', b'1', b'1', b'1', b'-1', b'-1', b'0', b'-1', b'1', b'1', b'0', b'1', b'1', b'1', b'1', b'-1', b'1', b'-1', b'-1', b'-1', b'1', b'-1', b'-1')],\n",
       "      dtype=[('having_IP_Address', 'S2'), ('URL_Length', 'S2'), ('Shortining_Service', 'S2'), ('having_At_Symbol', 'S2'), ('double_slash_redirecting', 'S2'), ('Prefix_Suffix', 'S2'), ('having_Sub_Domain', 'S2'), ('SSLfinal_State', 'S2'), ('Domain_registeration_length', 'S2'), ('Favicon', 'S2'), ('port', 'S2'), ('HTTPS_token', 'S2'), ('Request_URL', 'S2'), ('URL_of_Anchor', 'S2'), ('Links_in_tags', 'S2'), ('SFH', 'S2'), ('Submitting_to_email', 'S2'), ('Abnormal_URL', 'S2'), ('Redirect', 'S1'), ('on_mouseover', 'S2'), ('RightClick', 'S2'), ('popUpWidnow', 'S2'), ('Iframe', 'S2'), ('age_of_domain', 'S2'), ('DNSRecord', 'S2'), ('web_traffic', 'S2'), ('Page_Rank', 'S2'), ('Google_Index', 'S2'), ('Links_pointing_to_page', 'S2'), ('Statistical_report', 'S2'), ('Result', 'S2')])"
      ]
     },
     "execution_count": 4,
     "metadata": {},
     "output_type": "execute_result"
    }
   ],
   "source": [
    "email_data[0]"
   ]
  },
  {
   "cell_type": "code",
   "execution_count": 5,
   "metadata": {},
   "outputs": [
    {
     "data": {
      "text/plain": [
       "Dataset: phishing\n",
       "\thaving_IP_Address's type is nominal, range is ('-1', '1')\n",
       "\tURL_Length's type is nominal, range is ('1', '0', '-1')\n",
       "\tShortining_Service's type is nominal, range is ('1', '-1')\n",
       "\thaving_At_Symbol's type is nominal, range is ('1', '-1')\n",
       "\tdouble_slash_redirecting's type is nominal, range is ('-1', '1')\n",
       "\tPrefix_Suffix's type is nominal, range is ('-1', '1')\n",
       "\thaving_Sub_Domain's type is nominal, range is ('-1', '0', '1')\n",
       "\tSSLfinal_State's type is nominal, range is ('-1', '1', '0')\n",
       "\tDomain_registeration_length's type is nominal, range is ('-1', '1')\n",
       "\tFavicon's type is nominal, range is ('1', '-1')\n",
       "\tport's type is nominal, range is ('1', '-1')\n",
       "\tHTTPS_token's type is nominal, range is ('-1', '1')\n",
       "\tRequest_URL's type is nominal, range is ('1', '-1')\n",
       "\tURL_of_Anchor's type is nominal, range is ('-1', '0', '1')\n",
       "\tLinks_in_tags's type is nominal, range is ('1', '-1', '0')\n",
       "\tSFH's type is nominal, range is ('-1', '1', '0')\n",
       "\tSubmitting_to_email's type is nominal, range is ('-1', '1')\n",
       "\tAbnormal_URL's type is nominal, range is ('-1', '1')\n",
       "\tRedirect's type is nominal, range is ('0', '1')\n",
       "\ton_mouseover's type is nominal, range is ('1', '-1')\n",
       "\tRightClick's type is nominal, range is ('1', '-1')\n",
       "\tpopUpWidnow's type is nominal, range is ('1', '-1')\n",
       "\tIframe's type is nominal, range is ('1', '-1')\n",
       "\tage_of_domain's type is nominal, range is ('-1', '1')\n",
       "\tDNSRecord's type is nominal, range is ('-1', '1')\n",
       "\tweb_traffic's type is nominal, range is ('-1', '0', '1')\n",
       "\tPage_Rank's type is nominal, range is ('-1', '1')\n",
       "\tGoogle_Index's type is nominal, range is ('1', '-1')\n",
       "\tLinks_pointing_to_page's type is nominal, range is ('1', '0', '-1')\n",
       "\tStatistical_report's type is nominal, range is ('-1', '1')\n",
       "\tResult's type is nominal, range is ('-1', '1')"
      ]
     },
     "execution_count": 5,
     "metadata": {},
     "output_type": "execute_result"
    }
   ],
   "source": [
    "email_data[1]"
   ]
  },
  {
   "cell_type": "markdown",
   "metadata": {},
   "source": [
    "### It looks like the first element contains data we can use, and the second contains information about that data."
   ]
  },
  {
   "cell_type": "code",
   "execution_count": 6,
   "metadata": {},
   "outputs": [
    {
     "ename": "IndexError",
     "evalue": "tuple index out of range",
     "output_type": "error",
     "traceback": [
      "\u001b[0;31m---------------------------------------------------------------------------\u001b[0m",
      "\u001b[0;31mIndexError\u001b[0m                                Traceback (most recent call last)",
      "\u001b[0;32m<ipython-input-6-64c1120432e5>\u001b[0m in \u001b[0;36m<module>\u001b[0;34m\u001b[0m\n\u001b[0;32m----> 1\u001b[0;31m \u001b[0memail_data\u001b[0m\u001b[0;34m[\u001b[0m\u001b[0;36m2\u001b[0m\u001b[0;34m]\u001b[0m\u001b[0;34m\u001b[0m\u001b[0;34m\u001b[0m\u001b[0m\n\u001b[0m",
      "\u001b[0;31mIndexError\u001b[0m: tuple index out of range"
     ]
    }
   ],
   "source": [
    "email_data[2]"
   ]
  },
  {
   "cell_type": "markdown",
   "metadata": {},
   "source": [
    "#### Just double checking to make sure there is no other data"
   ]
  },
  {
   "cell_type": "markdown",
   "metadata": {},
   "source": [
    "### The numbers in `email_data[0]` have this weird 'b' in front of them.  This indicates that the data was brought over as a byte, not a number.  Let's convert those to numbers, using the pandas DataFrame `dtype` parameter.  Then we'll take a peek at the first few rows of data.\""
   ]
  },
  {
   "cell_type": "code",
   "execution_count": null,
   "metadata": {},
   "outputs": [],
   "source": [
    "import pandas as pd\n",
    "email_df = pd.DataFrame(email_data[0], dtype = int)\n",
    "email_df.head(20)"
   ]
  },
  {
   "cell_type": "markdown",
   "metadata": {},
   "source": [
    "#### It looks like 1 is true, -1 is false, and 0 might be not available? The list is also very long; let's print out the columns we have to work with"
   ]
  },
  {
   "cell_type": "code",
   "execution_count": null,
   "metadata": {},
   "outputs": [],
   "source": [
    "email_df.columns"
   ]
  },
  {
   "cell_type": "markdown",
   "metadata": {},
   "source": [
    "It looks like this a robust set of criteria for websites. depending on characteristics like whether or not these websits have an IP address, their URL length etc, we can get a calculated probability score of whether a website not in this set is risky. If you want to know more about what the individual columns represent, please see <a href=\"https://archive.ics.uci.edu/ml/machine-learning-databases/00327/Phishing Websites Features.docx\">this document</a>"
   ]
  },
  {
   "cell_type": "markdown",
   "metadata": {},
   "source": [
    "### This training dataset is useful, but I'm not sure how to analyze it as is. I'll munge the data into 2 dataframes, one for phishing, and one for non-phishing, so I can compare them. I'll provide an export in case I want to pass this data along, [though you will need to change the filepath], then I'll sneak a preview to make sure I'm on the right track."
   ]
  },
  {
   "cell_type": "code",
   "execution_count": null,
   "metadata": {},
   "outputs": [],
   "source": [
    "phishing_df = email_df[email_df['Result'] == 1]\n",
    "phishing_df.to_csv('/Users/leidner/Downloads/phishing.csv')\n",
    "non_phishing_df = email_df[email_df['Result'] == -1]\n",
    "non_phishing_df.to_csv('/Users/leidner/Downloads/non_phishing.csv') "
   ]
  },
  {
   "cell_type": "code",
   "execution_count": null,
   "metadata": {},
   "outputs": [],
   "source": [
    "non_phishing_df.head()"
   ]
  },
  {
   "cell_type": "markdown",
   "metadata": {},
   "source": [
    "### Now let's see if we can draw any inferences or conclusions from our two training sets using the `describe` function."
   ]
  },
  {
   "cell_type": "code",
   "execution_count": null,
   "metadata": {},
   "outputs": [],
   "source": [
    "phishing_df['web_traffic'].describe()"
   ]
  },
  {
   "cell_type": "code",
   "execution_count": null,
   "metadata": {},
   "outputs": [],
   "source": [
    "non_phishing_df['web_traffic'].describe()"
   ]
  },
  {
   "cell_type": "markdown",
   "metadata": {},
   "source": [
    "### In the training set of phishing emails, it looks like web traffic is likely to be exist as shown by the mean value, as opposed to the non-phihing dataset. Feel free to replace the column names in the above to cells to receive a standard algabraic analysis of the two training sets we have made, and draw your own conclusions."
   ]
  },
  {
   "cell_type": "markdown",
   "metadata": {},
   "source": [
    "# <center> <br>[Begining of the page](#Top)</center>"
   ]
  }
 ],
 "metadata": {
  "kernelspec": {
   "display_name": "Python 3",
   "language": "python",
   "name": "python3"
  },
  "language_info": {
   "codemirror_mode": {
    "name": "ipython",
    "version": 3
   },
   "file_extension": ".py",
   "mimetype": "text/x-python",
   "name": "python",
   "nbconvert_exporter": "python",
   "pygments_lexer": "ipython3",
   "version": "3.7.3"
  }
 },
 "nbformat": 4,
 "nbformat_minor": 2
}
