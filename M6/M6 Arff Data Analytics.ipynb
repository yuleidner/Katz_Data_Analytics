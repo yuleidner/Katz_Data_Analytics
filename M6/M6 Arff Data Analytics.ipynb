{
 "cells": [
  {
   "cell_type": "markdown",
   "metadata": {},
   "source": [
    "<a id='Top'></a>\n",
    "<h1> <center>Analytics Programming: Module 6</center> </h1>\n",
    "<p><h2><center>Data Analysis for the NYC Energy Efficiency Program</center> \n",
    "<center>supported by a <a href=\"https://github.com/yuleidner/Katz_Data_Analytics/blob/master/M6/README.md\">M6 README file </a></center></h2></p>\n",
    "\n",
    "#### <center>Alan Leidner Oct 11, 2019</center>"
   ]
  },
  {
   "cell_type": "code",
   "execution_count": 2,
   "metadata": {},
   "outputs": [
    {
     "data": {
      "text/plain": [
       "(array([(b'-1', b'1', b'1', b'1', b'-1', b'-1', b'-1', b'-1', b'-1', b'1', b'1', b'-1', b'1', b'-1', b'1', b'-1', b'-1', b'-1', b'0', b'1', b'1', b'1', b'1', b'-1', b'-1', b'-1', b'-1', b'1', b'1', b'-1', b'-1'),\n",
       "        (b'1', b'1', b'1', b'1', b'1', b'-1', b'0', b'1', b'-1', b'1', b'1', b'-1', b'1', b'0', b'-1', b'-1', b'1', b'1', b'0', b'1', b'1', b'1', b'1', b'-1', b'-1', b'0', b'-1', b'1', b'1', b'1', b'-1'),\n",
       "        (b'1', b'0', b'1', b'1', b'1', b'-1', b'-1', b'-1', b'-1', b'1', b'1', b'-1', b'1', b'0', b'-1', b'-1', b'-1', b'-1', b'0', b'1', b'1', b'1', b'1', b'1', b'-1', b'1', b'-1', b'1', b'0', b'-1', b'-1'),\n",
       "        ...,\n",
       "        (b'1', b'-1', b'1', b'1', b'1', b'-1', b'1', b'-1', b'-1', b'1', b'1', b'1', b'1', b'0', b'-1', b'-1', b'1', b'1', b'0', b'1', b'1', b'1', b'1', b'1', b'1', b'1', b'-1', b'1', b'0', b'1', b'-1'),\n",
       "        (b'-1', b'-1', b'1', b'1', b'1', b'-1', b'-1', b'-1', b'1', b'-1', b'1', b'1', b'-1', b'-1', b'1', b'-1', b'1', b'1', b'0', b'-1', b'1', b'-1', b'1', b'1', b'1', b'1', b'-1', b'1', b'1', b'1', b'-1'),\n",
       "        (b'-1', b'-1', b'1', b'1', b'1', b'-1', b'-1', b'-1', b'1', b'1', b'1', b'1', b'-1', b'-1', b'0', b'-1', b'1', b'1', b'0', b'1', b'1', b'1', b'1', b'-1', b'1', b'-1', b'-1', b'-1', b'1', b'-1', b'-1')],\n",
       "       dtype=[('having_IP_Address', 'S2'), ('URL_Length', 'S2'), ('Shortining_Service', 'S2'), ('having_At_Symbol', 'S2'), ('double_slash_redirecting', 'S2'), ('Prefix_Suffix', 'S2'), ('having_Sub_Domain', 'S2'), ('SSLfinal_State', 'S2'), ('Domain_registeration_length', 'S2'), ('Favicon', 'S2'), ('port', 'S2'), ('HTTPS_token', 'S2'), ('Request_URL', 'S2'), ('URL_of_Anchor', 'S2'), ('Links_in_tags', 'S2'), ('SFH', 'S2'), ('Submitting_to_email', 'S2'), ('Abnormal_URL', 'S2'), ('Redirect', 'S1'), ('on_mouseover', 'S2'), ('RightClick', 'S2'), ('popUpWidnow', 'S2'), ('Iframe', 'S2'), ('age_of_domain', 'S2'), ('DNSRecord', 'S2'), ('web_traffic', 'S2'), ('Page_Rank', 'S2'), ('Google_Index', 'S2'), ('Links_pointing_to_page', 'S2'), ('Statistical_report', 'S2'), ('Result', 'S2')]),\n",
       " Dataset: phishing\n",
       " \thaving_IP_Address's type is nominal, range is ('-1', '1')\n",
       " \tURL_Length's type is nominal, range is ('1', '0', '-1')\n",
       " \tShortining_Service's type is nominal, range is ('1', '-1')\n",
       " \thaving_At_Symbol's type is nominal, range is ('1', '-1')\n",
       " \tdouble_slash_redirecting's type is nominal, range is ('-1', '1')\n",
       " \tPrefix_Suffix's type is nominal, range is ('-1', '1')\n",
       " \thaving_Sub_Domain's type is nominal, range is ('-1', '0', '1')\n",
       " \tSSLfinal_State's type is nominal, range is ('-1', '1', '0')\n",
       " \tDomain_registeration_length's type is nominal, range is ('-1', '1')\n",
       " \tFavicon's type is nominal, range is ('1', '-1')\n",
       " \tport's type is nominal, range is ('1', '-1')\n",
       " \tHTTPS_token's type is nominal, range is ('-1', '1')\n",
       " \tRequest_URL's type is nominal, range is ('1', '-1')\n",
       " \tURL_of_Anchor's type is nominal, range is ('-1', '0', '1')\n",
       " \tLinks_in_tags's type is nominal, range is ('1', '-1', '0')\n",
       " \tSFH's type is nominal, range is ('-1', '1', '0')\n",
       " \tSubmitting_to_email's type is nominal, range is ('-1', '1')\n",
       " \tAbnormal_URL's type is nominal, range is ('-1', '1')\n",
       " \tRedirect's type is nominal, range is ('0', '1')\n",
       " \ton_mouseover's type is nominal, range is ('1', '-1')\n",
       " \tRightClick's type is nominal, range is ('1', '-1')\n",
       " \tpopUpWidnow's type is nominal, range is ('1', '-1')\n",
       " \tIframe's type is nominal, range is ('1', '-1')\n",
       " \tage_of_domain's type is nominal, range is ('-1', '1')\n",
       " \tDNSRecord's type is nominal, range is ('-1', '1')\n",
       " \tweb_traffic's type is nominal, range is ('-1', '0', '1')\n",
       " \tPage_Rank's type is nominal, range is ('-1', '1')\n",
       " \tGoogle_Index's type is nominal, range is ('1', '-1')\n",
       " \tLinks_pointing_to_page's type is nominal, range is ('1', '0', '-1')\n",
       " \tStatistical_report's type is nominal, range is ('-1', '1')\n",
       " \tResult's type is nominal, range is ('-1', '1'))"
      ]
     },
     "execution_count": 2,
     "metadata": {},
     "output_type": "execute_result"
    }
   ],
   "source": [
    "from scipy.io import arff\n",
    "email_data = arff.loadarff('/Users/leidner/Downloads/Training_Dataset.arff')\n",
    "email_data"
   ]
  },
  {
   "cell_type": "markdown",
   "metadata": {},
   "source": [
    "# Describes the data using metadata found in the documentation on the same website mentioned above. Just explain what each column name means, and what the possible values are. You don't have to explain what each value means (e.g. what a -1, 0, or 1 indicates)."
   ]
  },
  {
   "cell_type": "markdown",
   "metadata": {},
   "source": [
    "Number of Instances: 2456\n",
    "\n",
    "Area: Computer Security\n",
    "\n",
    "Attribute Characteristics: Integer\n",
    "\n",
    "Number of Attributes: 30\n",
    "\n",
    "Date Donated: 2015-03-26\n",
    "\n",
    "Associated Tasks: Classification\n",
    "\n",
    "Number of Web Hits: 122110"
   ]
  },
  {
   "cell_type": "markdown",
   "metadata": {},
   "source": [
    "Data Set Information:\n",
    "\n",
    "One of the challenges faced by our research was the unavailability of reliable training datasets. In fact this challenge faces any researcher in the field. However, although plenty of articles about predicting phishing websites have been disseminated these days, no reliable training dataset has been published publically, may be because there is no agreement in literature on the definitive features that characterize phishing webpages, hence it is difficult to shape a dataset that covers all possible features.\n",
    "In this dataset, we shed light on the important features that have proved to be sound and effective in predicting phishing websites. In addition, we propose some new features.\n",
    "\n"
   ]
  },
  {
   "cell_type": "markdown",
   "metadata": {},
   "source": [
    "# Uses pandas or numpy to support an analysis of the relationship between one or more characteristics and the outcome (phishing / non-phishing). You might want to do a correlation, for example, or a table that shows a relationship, and describe what you find. "
   ]
  },
  {
   "cell_type": "code",
   "execution_count": null,
   "metadata": {},
   "outputs": [],
   "source": []
  },
  {
   "cell_type": "markdown",
   "metadata": {},
   "source": [
    "# Splits the DataFrame into two new DataFrames -- one for phishing and one for non-phishing websites."
   ]
  },
  {
   "cell_type": "code",
   "execution_count": null,
   "metadata": {},
   "outputs": [],
   "source": []
  },
  {
   "cell_type": "markdown",
   "metadata": {},
   "source": [
    "# Make sure you use markdown cells to begin your notebook with an appropriate header and explain to a naive stakeholder what you’re doing along the way."
   ]
  },
  {
   "cell_type": "markdown",
   "metadata": {},
   "source": [
    "# <center> <br>[Begining of the page](#Top)</center>"
   ]
  }
 ],
 "metadata": {
  "kernelspec": {
   "display_name": "Python 3",
   "language": "python",
   "name": "python3"
  },
  "language_info": {
   "codemirror_mode": {
    "name": "ipython",
    "version": 3
   },
   "file_extension": ".py",
   "mimetype": "text/x-python",
   "name": "python",
   "nbconvert_exporter": "python",
   "pygments_lexer": "ipython3",
   "version": "3.7.3"
  }
 },
 "nbformat": 4,
 "nbformat_minor": 2
}
