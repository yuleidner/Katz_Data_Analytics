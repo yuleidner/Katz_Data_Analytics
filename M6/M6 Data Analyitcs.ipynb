{
 "cells": [
  {
   "cell_type": "markdown",
   "metadata": {},
   "source": [
    "<a id='Top'></a>\n",
    "<h1> <center>Analytics Programming: Module 6</center> </h1>\n",
    "<p><h2><center>Data Analysis for the NYC Energy Efficiency Program</center> \n",
    "<center>supported by a <a href=\"https://github.com/yuleidner/Katz_Data_Analytics/blob/master/M6/README.md\">M6 README file </a></center></h2></p>\n",
    "\n",
    "#### <center>Alan Leidner Oct 11, 2019</center>"
   ]
  },
  {
   "cell_type": "code",
   "execution_count": null,
   "metadata": {},
   "outputs": [],
   "source": []
  },
  {
   "cell_type": "code",
   "execution_count": null,
   "metadata": {},
   "outputs": [],
   "source": []
  },
  {
   "cell_type": "code",
   "execution_count": null,
   "metadata": {},
   "outputs": [],
   "source": []
  },
  {
   "cell_type": "markdown",
   "metadata": {},
   "source": [
    "# <center> <br>[Begining of the page](#Top)</center>"
   ]
  }
 ],
 "metadata": {
  "kernelspec": {
   "display_name": "Python 3",
   "language": "python",
   "name": "python3"
  },
  "language_info": {
   "codemirror_mode": {
    "name": "ipython",
    "version": 3
   },
   "file_extension": ".py",
   "mimetype": "text/x-python",
   "name": "python",
   "nbconvert_exporter": "python",
   "pygments_lexer": "ipython3",
   "version": "3.7.3"
  }
 },
 "nbformat": 4,
 "nbformat_minor": 2
}
