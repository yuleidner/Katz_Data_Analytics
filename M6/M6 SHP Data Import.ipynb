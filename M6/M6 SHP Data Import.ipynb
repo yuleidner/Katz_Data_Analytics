{
 "cells": [
  {
   "cell_type": "markdown",
   "metadata": {},
   "source": [
    "<a id='Top'></a>\n",
    "<h1> <center>Analytics Programming: Module 6</center> </h1>\n",
    "<p><h2><center>Attempting to import Bicycle lanes in non-tabular format</center> \n",
    "<center>supported by a <a href=\"https://github.com/yuleidner/Katz_Data_Analytics/blob/master/M6/README.md\">M6 README file </a></center></h2></p>\n",
    "<center>Alan Leidner Oct 10, 2019</center>"
   ]
  },
  {
   "cell_type": "markdown",
   "metadata": {},
   "source": [
    "## Follow along here with these instructions: https://automating-gis-processes.github.io/2016/Lesson2-geopandas-basics.html\n",
    "#### Datasource: https://data.cityofnewyork.us/Transportation/Bicycle-Routes/7vsa-caz7"
   ]
  },
  {
   "cell_type": "markdown",
   "metadata": {},
   "source": [
    "## I'll try to import a shapefile from my downloads folder. I am attaching it in my github repo, but not updating the filepath for now."
   ]
  },
  {
   "cell_type": "markdown",
   "metadata": {},
   "source": [
    "import shapefile\n",
    "shape = shapefile.Reader(\"/Users/leidner/Downloads/Bicycle\\ Routes\")\n",
    "#first feature of the shapefile\n",
    "#feature = shape.shapeRecords()[0]\n",
    "#first = feature.shape.__geo_interface__  \n",
    "#print first # (GeoJSON format)\n",
    "#{'type': 'LineString', 'coordinates': ((0.0, 0.0), (25.0, 10.0), (50.0, 50.0))}"
   ]
  },
  {
   "cell_type": "markdown",
   "metadata": {},
   "source": [
    "### After a few tries, It doesnt go very well. I'm switching Libarires. Make sure to pip install geopandas"
   ]
  },
  {
   "cell_type": "code",
   "execution_count": 8,
   "metadata": {},
   "outputs": [],
   "source": [
    "import geopandas as gpd"
   ]
  },
  {
   "cell_type": "code",
   "execution_count": 11,
   "metadata": {},
   "outputs": [],
   "source": [
    "fp = \"/Users/leidner/Downloads/Bicycle_Routes/geo_export_e9204df5-d8b9-4aae-852e-3db57798ff4c.shp\""
   ]
  },
  {
   "cell_type": "code",
   "execution_count": 12,
   "metadata": {},
   "outputs": [],
   "source": [
    "data = gpd.read_file(fp)"
   ]
  },
  {
   "cell_type": "code",
   "execution_count": 13,
   "metadata": {},
   "outputs": [
    {
     "data": {
      "text/plain": [
       "geopandas.geodataframe.GeoDataFrame"
      ]
     },
     "execution_count": 13,
     "metadata": {},
     "output_type": "execute_result"
    }
   ],
   "source": [
    "type(data)"
   ]
  },
  {
   "cell_type": "code",
   "execution_count": 14,
   "metadata": {},
   "outputs": [
    {
     "data": {
      "text/html": [
       "<div>\n",
       "<style scoped>\n",
       "    .dataframe tbody tr th:only-of-type {\n",
       "        vertical-align: middle;\n",
       "    }\n",
       "\n",
       "    .dataframe tbody tr th {\n",
       "        vertical-align: top;\n",
       "    }\n",
       "\n",
       "    .dataframe thead th {\n",
       "        text-align: right;\n",
       "    }\n",
       "</style>\n",
       "<table border=\"1\" class=\"dataframe\">\n",
       "  <thead>\n",
       "    <tr style=\"text-align: right;\">\n",
       "      <th></th>\n",
       "      <th>allclasses</th>\n",
       "      <th>bikedir</th>\n",
       "      <th>boro</th>\n",
       "      <th>comments</th>\n",
       "      <th>facilitycl</th>\n",
       "      <th>fromstreet</th>\n",
       "      <th>ft_facilit</th>\n",
       "      <th>date_instd</th>\n",
       "      <th>time_instd</th>\n",
       "      <th>lanecount</th>\n",
       "      <th>date_modda</th>\n",
       "      <th>time_modda</th>\n",
       "      <th>onoffst</th>\n",
       "      <th>segment_id</th>\n",
       "      <th>street</th>\n",
       "      <th>tf_facilit</th>\n",
       "      <th>tostreet</th>\n",
       "      <th>geometry</th>\n",
       "    </tr>\n",
       "  </thead>\n",
       "  <tbody>\n",
       "    <tr>\n",
       "      <th>0</th>\n",
       "      <td>I</td>\n",
       "      <td>L</td>\n",
       "      <td>1.0</td>\n",
       "      <td>None</td>\n",
       "      <td>I</td>\n",
       "      <td>W 16 ST</td>\n",
       "      <td>None</td>\n",
       "      <td>2008-09-25</td>\n",
       "      <td>00:00:00.000</td>\n",
       "      <td>1.0</td>\n",
       "      <td>2008-09-25</td>\n",
       "      <td>00:00:00.000</td>\n",
       "      <td>ON</td>\n",
       "      <td>33547</td>\n",
       "      <td>9 AV</td>\n",
       "      <td>Protected Path</td>\n",
       "      <td>W 31 ST</td>\n",
       "      <td>LINESTRING (-74.00040 40.74777, -73.99994 40.7...</td>\n",
       "    </tr>\n",
       "    <tr>\n",
       "      <th>1</th>\n",
       "      <td>II</td>\n",
       "      <td>R</td>\n",
       "      <td>3.0</td>\n",
       "      <td>None</td>\n",
       "      <td>II</td>\n",
       "      <td>DEAN ST</td>\n",
       "      <td>Standard</td>\n",
       "      <td>1980-07-01</td>\n",
       "      <td>00:00:00.000</td>\n",
       "      <td>1.0</td>\n",
       "      <td>1980-07-01</td>\n",
       "      <td>00:00:00.000</td>\n",
       "      <td>ON</td>\n",
       "      <td>22630</td>\n",
       "      <td>3 AV</td>\n",
       "      <td>None</td>\n",
       "      <td>15 ST</td>\n",
       "      <td>LINESTRING (-73.98748 40.67571, -73.98800 40.6...</td>\n",
       "    </tr>\n",
       "    <tr>\n",
       "      <th>2</th>\n",
       "      <td>III</td>\n",
       "      <td>L</td>\n",
       "      <td>3.0</td>\n",
       "      <td>downgrade to shared</td>\n",
       "      <td>III</td>\n",
       "      <td>TILLARY ST</td>\n",
       "      <td>None</td>\n",
       "      <td>2006-06-01</td>\n",
       "      <td>00:00:00.000</td>\n",
       "      <td>1.0</td>\n",
       "      <td>2017-07-01</td>\n",
       "      <td>00:00:00.000</td>\n",
       "      <td>ON</td>\n",
       "      <td>299123</td>\n",
       "      <td>ADAMS ST</td>\n",
       "      <td>Sharrows</td>\n",
       "      <td>SANDS ST</td>\n",
       "      <td>LINESTRING (-73.98850 40.69736, -73.98856 40.6...</td>\n",
       "    </tr>\n",
       "    <tr>\n",
       "      <th>3</th>\n",
       "      <td>III</td>\n",
       "      <td>R</td>\n",
       "      <td>1.0</td>\n",
       "      <td>None</td>\n",
       "      <td>III</td>\n",
       "      <td>5 AV</td>\n",
       "      <td>Sharrows</td>\n",
       "      <td>2012-09-12</td>\n",
       "      <td>00:00:00.000</td>\n",
       "      <td>1.0</td>\n",
       "      <td>2012-09-12</td>\n",
       "      <td>00:00:00.000</td>\n",
       "      <td>ON</td>\n",
       "      <td>34170</td>\n",
       "      <td>W 39 ST</td>\n",
       "      <td>None</td>\n",
       "      <td>8 AV</td>\n",
       "      <td>LINESTRING (-73.98227 40.75158, -73.98549 40.7...</td>\n",
       "    </tr>\n",
       "    <tr>\n",
       "      <th>4</th>\n",
       "      <td>II</td>\n",
       "      <td>L</td>\n",
       "      <td>3.0</td>\n",
       "      <td>None</td>\n",
       "      <td>II</td>\n",
       "      <td>FLUSHING AV</td>\n",
       "      <td>None</td>\n",
       "      <td>2003-06-01</td>\n",
       "      <td>00:00:00.000</td>\n",
       "      <td>1.0</td>\n",
       "      <td>2003-06-01</td>\n",
       "      <td>00:00:00.000</td>\n",
       "      <td>ON</td>\n",
       "      <td>43043</td>\n",
       "      <td>THROOP AV</td>\n",
       "      <td>Standard</td>\n",
       "      <td>FULTON ST</td>\n",
       "      <td>LINESTRING (-73.94149 40.68576, -73.94135 40.6...</td>\n",
       "    </tr>\n",
       "  </tbody>\n",
       "</table>\n",
       "</div>"
      ],
      "text/plain": [
       "  allclasses bikedir  boro             comments facilitycl   fromstreet  \\\n",
       "0          I       L   1.0                 None          I      W 16 ST   \n",
       "1         II       R   3.0                 None         II      DEAN ST   \n",
       "2        III       L   3.0  downgrade to shared        III   TILLARY ST   \n",
       "3        III       R   1.0                 None        III         5 AV   \n",
       "4         II       L   3.0                 None         II  FLUSHING AV   \n",
       "\n",
       "  ft_facilit  date_instd    time_instd  lanecount  date_modda    time_modda  \\\n",
       "0       None  2008-09-25  00:00:00.000        1.0  2008-09-25  00:00:00.000   \n",
       "1   Standard  1980-07-01  00:00:00.000        1.0  1980-07-01  00:00:00.000   \n",
       "2       None  2006-06-01  00:00:00.000        1.0  2017-07-01  00:00:00.000   \n",
       "3   Sharrows  2012-09-12  00:00:00.000        1.0  2012-09-12  00:00:00.000   \n",
       "4       None  2003-06-01  00:00:00.000        1.0  2003-06-01  00:00:00.000   \n",
       "\n",
       "  onoffst segment_id     street      tf_facilit   tostreet  \\\n",
       "0      ON      33547       9 AV  Protected Path    W 31 ST   \n",
       "1      ON      22630       3 AV            None      15 ST   \n",
       "2      ON     299123   ADAMS ST        Sharrows   SANDS ST   \n",
       "3      ON      34170    W 39 ST            None       8 AV   \n",
       "4      ON      43043  THROOP AV        Standard  FULTON ST   \n",
       "\n",
       "                                            geometry  \n",
       "0  LINESTRING (-74.00040 40.74777, -73.99994 40.7...  \n",
       "1  LINESTRING (-73.98748 40.67571, -73.98800 40.6...  \n",
       "2  LINESTRING (-73.98850 40.69736, -73.98856 40.6...  \n",
       "3  LINESTRING (-73.98227 40.75158, -73.98549 40.7...  \n",
       "4  LINESTRING (-73.94149 40.68576, -73.94135 40.6...  "
      ]
     },
     "execution_count": 14,
     "metadata": {},
     "output_type": "execute_result"
    }
   ],
   "source": [
    "data.head()"
   ]
  },
  {
   "cell_type": "code",
   "execution_count": 16,
   "metadata": {},
   "outputs": [
    {
     "data": {
      "text/plain": [
       "<matplotlib.axes._subplots.AxesSubplot at 0x123d8d4e0>"
      ]
     },
     "execution_count": 16,
     "metadata": {},
     "output_type": "execute_result"
    },
    {
     "data": {
      "image/png": "[encoded data removed]",
      "text/plain": [
       "<Figure size 432x288 with 1 Axes>"
      ]
     },
     "metadata": {
      "needs_background": "light"
     },
     "output_type": "display_data"
    }
   ],
   "source": [
    "data.plot()"
   ]
  },
  {
   "cell_type": "code",
   "execution_count": 17,
   "metadata": {},
   "outputs": [
    {
     "data": {
      "text/plain": [
       "{'init': 'epsg:4326'}"
      ]
     },
     "execution_count": 17,
     "metadata": {},
     "output_type": "execute_result"
    }
   ],
   "source": [
    "data.crs"
   ]
  }
 ],
 "metadata": {
  "kernelspec": {
   "display_name": "Python 3",
   "language": "python",
   "name": "python3"
  },
  "language_info": {
   "codemirror_mode": {
    "name": "ipython",
    "version": 3
   },
   "file_extension": ".py",
   "mimetype": "text/x-python",
   "name": "python",
   "nbconvert_exporter": "python",
   "pygments_lexer": "ipython3",
   "version": "3.7.3"
  }
 },
 "nbformat": 4,
 "nbformat_minor": 2
}
