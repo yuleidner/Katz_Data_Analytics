{
 "cells": [
  {
   "cell_type": "markdown",
   "metadata": {},
   "source": [
    "<a id='Top'></a>\n",
    "<h1> <center>Analytics Programming: Module 5</center> </h1>\n",
    "<p><h2><center>Data Analysis for the NYC Energy Efficiency Program.</center> \n",
    "<center>supported by a <a href=\"https://github.com/yuleidner/Katz_Data_Analytics/blob/master/M5/README.md">M5 README file</a></center></h2></p>\n",
    "\n",
    "#### <center> Alan Leidner Oct 4, 2019</center>"
   ]
  },
  {
   "cell_type": "markdown",
   "metadata": {},
   "source": [
    "## I will start by importing data from a live data set. \n",
    "##### If you want to follow along, or re-analize my findings (which can change over time), follow along by running the cells of code for up to date data!"
   ]
  },
  {
   "cell_type": "code",
   "execution_count": 1,
   "metadata": {},
   "outputs": [],
   "source": [
    "import pandas as pd\n",
    "nyc_gas =  pd.read_csv(\"https://data.cityofnewyork.us/api/views/uedp-fegm/rows.csv?accessType=DOWNLOAD\")"
   ]
  },
  {
   "cell_type": "markdown",
   "metadata": {},
   "source": [
    "## Now, I'll confirm that I imported this data properly. \n",
    "I will then confirm how many datapoints are contained in `nyc_gas` and how they are aranged, before printing out a few lines to get a sense for what the data looks like."
   ]
  },
  {
   "cell_type": "markdown",
   "metadata": {},
   "source": [
    "### I will confirm that our `nyc_gas` variable points to a dataframe, an object we can act on which contains all the data we want. "
   ]
  },
  {
   "cell_type": "code",
   "execution_count": 2,
   "metadata": {},
   "outputs": [
    {
     "data": {
      "text/plain": [
       "pandas.core.frame.DataFrame"
      ]
     },
     "execution_count": 2,
     "metadata": {},
     "output_type": "execute_result"
    }
   ],
   "source": [
    "type(nyc_gas)"
   ]
  },
  {
   "cell_type": "markdown",
   "metadata": {},
   "source": [
    "### I will then confirm how many datapoints are contained in `nyc_gas` and how they are aranged, before printing out a few lines to get a sense for what the data looks like."
   ]
  },
  {
   "cell_type": "code",
   "execution_count": 3,
   "metadata": {},
   "outputs": [
    {
     "data": {
      "text/plain": [
       "5075"
      ]
     },
     "execution_count": 3,
     "metadata": {},
     "output_type": "execute_result"
    }
   ],
   "source": [
    "nyc_gas.size"
   ]
  },
  {
   "cell_type": "code",
   "execution_count": 4,
   "metadata": {},
   "outputs": [
    {
     "data": {
      "text/plain": [
       "(1015, 5)"
      ]
     },
     "execution_count": 4,
     "metadata": {},
     "output_type": "execute_result"
    }
   ],
   "source": [
    "nyc_gas.shape"
   ]
  },
  {
   "cell_type": "code",
   "execution_count": 5,
   "metadata": {},
   "outputs": [
    {
     "data": {
      "text/html": [
       "<div>\n",
       "<style scoped>\n",
       "    .dataframe tbody tr th:only-of-type {\n",
       "        vertical-align: middle;\n",
       "    }\n",
       "\n",
       "    .dataframe tbody tr th {\n",
       "        vertical-align: top;\n",
       "    }\n",
       "\n",
       "    .dataframe thead th {\n",
       "        text-align: right;\n",
       "    }\n",
       "</style>\n",
       "<table border=\"1\" class=\"dataframe\">\n",
       "  <thead>\n",
       "    <tr style=\"text-align: right;\">\n",
       "      <th></th>\n",
       "      <th>Zip Code</th>\n",
       "      <th>Building type (service class</th>\n",
       "      <th>Consumption (therms)</th>\n",
       "      <th>Consumption (GJ)</th>\n",
       "      <th>Utility/Data Source</th>\n",
       "    </tr>\n",
       "  </thead>\n",
       "  <tbody>\n",
       "    <tr>\n",
       "      <th>0</th>\n",
       "      <td>10300</td>\n",
       "      <td>Commercial</td>\n",
       "      <td>470.0</td>\n",
       "      <td>50.0</td>\n",
       "      <td>National Grid</td>\n",
       "    </tr>\n",
       "    <tr>\n",
       "      <th>1</th>\n",
       "      <td>10335</td>\n",
       "      <td>Commercial</td>\n",
       "      <td>647.0</td>\n",
       "      <td>68.0</td>\n",
       "      <td>National Grid</td>\n",
       "    </tr>\n",
       "    <tr>\n",
       "      <th>2</th>\n",
       "      <td>10360</td>\n",
       "      <td>Large residential</td>\n",
       "      <td>33762.0</td>\n",
       "      <td>3562.0</td>\n",
       "      <td>National Grid</td>\n",
       "    </tr>\n",
       "    <tr>\n",
       "      <th>3</th>\n",
       "      <td>11200</td>\n",
       "      <td>Commercial</td>\n",
       "      <td>32125.0</td>\n",
       "      <td>3389.0</td>\n",
       "      <td>National Grid</td>\n",
       "    </tr>\n",
       "    <tr>\n",
       "      <th>4</th>\n",
       "      <td>11200</td>\n",
       "      <td>Institutional</td>\n",
       "      <td>3605.0</td>\n",
       "      <td>380.0</td>\n",
       "      <td>National Grid</td>\n",
       "    </tr>\n",
       "  </tbody>\n",
       "</table>\n",
       "</div>"
      ],
      "text/plain": [
       "  Zip Code Building type (service class   Consumption (therms)   \\\n",
       "0    10300                   Commercial                   470.0   \n",
       "1    10335                   Commercial                   647.0   \n",
       "2    10360            Large residential                 33762.0   \n",
       "3    11200                   Commercial                 32125.0   \n",
       "4    11200                Institutional                  3605.0   \n",
       "\n",
       "    Consumption (GJ)  Utility/Data Source  \n",
       "0                50.0       National Grid  \n",
       "1                68.0       National Grid  \n",
       "2              3562.0       National Grid  \n",
       "3              3389.0       National Grid  \n",
       "4               380.0       National Grid  "
      ]
     },
     "execution_count": 5,
     "metadata": {},
     "output_type": "execute_result"
    }
   ],
   "source": [
    "nyc_gas.head()"
   ]
  },
  {
   "cell_type": "markdown",
   "metadata": {},
   "source": [
    "## It looks like our data has been imported properly. Now let's clean it up a little bit, starting with the column labels. "
   ]
  },
  {
   "cell_type": "code",
   "execution_count": 6,
   "metadata": {},
   "outputs": [
    {
     "data": {
      "text/plain": [
       "Index(['Zip Code', 'Building type (service class', ' Consumption (therms) ',\n",
       "       ' Consumption (GJ) ', 'Utility/Data Source'],\n",
       "      dtype='object')"
      ]
     },
     "execution_count": 6,
     "metadata": {},
     "output_type": "execute_result"
    }
   ],
   "source": [
    "nyc_gas.columns"
   ]
  },
  {
   "cell_type": "markdown",
   "metadata": {},
   "source": [
    "### The column names are a bit obscure, have extra spaces, and they are a bit long. Let's see if we can't make them a bit more legible"
   ]
  },
  {
   "cell_type": "code",
   "execution_count": 7,
   "metadata": {},
   "outputs": [],
   "source": [
    "nyc_gas.rename(index=str, columns={'Building type (service class': \"Building Type\", \n",
    "                                   ' Consumption (therms) ': 'Consumption (Therms)',\n",
    "                                   ' Consumption (GJ) ': 'Consumption (GJ)',\n",
    "                                   'Utility/Data Source' : 'Utility'}, inplace=True)"
   ]
  },
  {
   "cell_type": "markdown",
   "metadata": {},
   "source": [
    "##### Now lets take a look"
   ]
  },
  {
   "cell_type": "code",
   "execution_count": 8,
   "metadata": {},
   "outputs": [
    {
     "data": {
      "text/html": [
       "<div>\n",
       "<style scoped>\n",
       "    .dataframe tbody tr th:only-of-type {\n",
       "        vertical-align: middle;\n",
       "    }\n",
       "\n",
       "    .dataframe tbody tr th {\n",
       "        vertical-align: top;\n",
       "    }\n",
       "\n",
       "    .dataframe thead th {\n",
       "        text-align: right;\n",
       "    }\n",
       "</style>\n",
       "<table border=\"1\" class=\"dataframe\">\n",
       "  <thead>\n",
       "    <tr style=\"text-align: right;\">\n",
       "      <th></th>\n",
       "      <th>Zip Code</th>\n",
       "      <th>Building Type</th>\n",
       "      <th>Consumption (Therms)</th>\n",
       "      <th>Consumption (GJ)</th>\n",
       "      <th>Utility</th>\n",
       "    </tr>\n",
       "  </thead>\n",
       "  <tbody>\n",
       "    <tr>\n",
       "      <th>0</th>\n",
       "      <td>10300</td>\n",
       "      <td>Commercial</td>\n",
       "      <td>470.0</td>\n",
       "      <td>50.0</td>\n",
       "      <td>National Grid</td>\n",
       "    </tr>\n",
       "    <tr>\n",
       "      <th>1</th>\n",
       "      <td>10335</td>\n",
       "      <td>Commercial</td>\n",
       "      <td>647.0</td>\n",
       "      <td>68.0</td>\n",
       "      <td>National Grid</td>\n",
       "    </tr>\n",
       "    <tr>\n",
       "      <th>2</th>\n",
       "      <td>10360</td>\n",
       "      <td>Large residential</td>\n",
       "      <td>33762.0</td>\n",
       "      <td>3562.0</td>\n",
       "      <td>National Grid</td>\n",
       "    </tr>\n",
       "    <tr>\n",
       "      <th>3</th>\n",
       "      <td>11200</td>\n",
       "      <td>Commercial</td>\n",
       "      <td>32125.0</td>\n",
       "      <td>3389.0</td>\n",
       "      <td>National Grid</td>\n",
       "    </tr>\n",
       "    <tr>\n",
       "      <th>4</th>\n",
       "      <td>11200</td>\n",
       "      <td>Institutional</td>\n",
       "      <td>3605.0</td>\n",
       "      <td>380.0</td>\n",
       "      <td>National Grid</td>\n",
       "    </tr>\n",
       "  </tbody>\n",
       "</table>\n",
       "</div>"
      ],
      "text/plain": [
       "  Zip Code      Building Type  Consumption (Therms)  Consumption (GJ)  \\\n",
       "0    10300         Commercial                 470.0              50.0   \n",
       "1    10335         Commercial                 647.0              68.0   \n",
       "2    10360  Large residential               33762.0            3562.0   \n",
       "3    11200         Commercial               32125.0            3389.0   \n",
       "4    11200      Institutional                3605.0             380.0   \n",
       "\n",
       "         Utility  \n",
       "0  National Grid  \n",
       "1  National Grid  \n",
       "2  National Grid  \n",
       "3  National Grid  \n",
       "4  National Grid  "
      ]
     },
     "execution_count": 8,
     "metadata": {},
     "output_type": "execute_result"
    }
   ],
   "source": [
    "nyc_gas.head()"
   ]
  },
  {
   "cell_type": "markdown",
   "metadata": {},
   "source": [
    "##### Much better!!"
   ]
  },
  {
   "cell_type": "markdown",
   "metadata": {},
   "source": [
    "## Now let's see if the utility or building columns need any of their data points cleaned up. \n",
    "##### (We would expect relatively unique values for the other columns.)"
   ]
  },
  {
   "cell_type": "code",
   "execution_count": 9,
   "metadata": {},
   "outputs": [
    {
     "data": {
      "text/plain": [
       "array(['National Grid', 'ConEd'], dtype=object)"
      ]
     },
     "execution_count": 9,
     "metadata": {},
     "output_type": "execute_result"
    }
   ],
   "source": [
    "pd.unique(nyc_gas['Utility'])"
   ]
  },
  {
   "cell_type": "markdown",
   "metadata": {},
   "source": [
    "##### Looks Good!"
   ]
  },
  {
   "cell_type": "code",
   "execution_count": 10,
   "metadata": {},
   "outputs": [
    {
     "data": {
      "text/plain": [
       "array(['Commercial', 'Large residential', 'Institutional',\n",
       "       'Small residential', 'Industrial', 'Large Residential',\n",
       "       'Residential'], dtype=object)"
      ]
     },
     "execution_count": 10,
     "metadata": {},
     "output_type": "execute_result"
    }
   ],
   "source": [
    "pd.unique(nyc_gas['Building Type'])"
   ]
  },
  {
   "cell_type": "markdown",
   "metadata": {},
   "source": [
    "##### It looks like we have a duplicate with 'Large residential' and 'Large Residential'. Small spelling differences are easily combined to you or me, but we'll have to instruct the program to combine these data points somehow. It is unclear if there is any other overlap from the values, but maybe something to look over later."
   ]
  },
  {
   "cell_type": "markdown",
   "metadata": {},
   "source": [
    "### Before we start, I'll confirm how many rows we started with"
   ]
  },
  {
   "cell_type": "code",
   "execution_count": 11,
   "metadata": {},
   "outputs": [
    {
     "data": {
      "text/plain": [
       "7"
      ]
     },
     "execution_count": 11,
     "metadata": {},
     "output_type": "execute_result"
    }
   ],
   "source": [
    "len(pd.unique(nyc_gas['Building Type']))"
   ]
  },
  {
   "cell_type": "code",
   "execution_count": 12,
   "metadata": {},
   "outputs": [],
   "source": [
    "nyc_gas.replace(to_replace = 'Large residential', value = 'Large Residential', inplace = True)"
   ]
  },
  {
   "cell_type": "code",
   "execution_count": 13,
   "metadata": {},
   "outputs": [
    {
     "data": {
      "text/plain": [
       "array(['Commercial', 'Large Residential', 'Institutional',\n",
       "       'Small residential', 'Industrial', 'Residential'], dtype=object)"
      ]
     },
     "execution_count": 13,
     "metadata": {},
     "output_type": "execute_result"
    }
   ],
   "source": [
    "pd.unique(nyc_gas['Building Type'])"
   ]
  },
  {
   "cell_type": "code",
   "execution_count": 14,
   "metadata": {},
   "outputs": [
    {
     "data": {
      "text/plain": [
       "6"
      ]
     },
     "execution_count": 14,
     "metadata": {},
     "output_type": "execute_result"
    }
   ],
   "source": [
    "len(pd.unique(nyc_gas['Building Type']))"
   ]
  },
  {
   "cell_type": "markdown",
   "metadata": {},
   "source": [
    "##### It looks to my eyes, and more importantly to the program, like we have succesfully reduced the amount af values from 7 to 6, combining the large residential values. I'll ignore that uncapilized `r` in 'Small residential' for now. It's not worth fixing at this point."
   ]
  },
  {
   "cell_type": "markdown",
   "metadata": {},
   "source": [
    "## Now that our data is clean, let's analyze it a bit."
   ]
  },
  {
   "cell_type": "markdown",
   "metadata": {},
   "source": [
    "### Let's see what our central values are"
   ]
  },
  {
   "cell_type": "code",
   "execution_count": 15,
   "metadata": {},
   "outputs": [
    {
     "name": "stdout",
     "output_type": "stream",
     "text": [
      "The median GJ consumption in nyc is:\n",
      "123000.0\n",
      "The mean GJ consumption in nyc is:\n",
      "290166.10447761195\n"
     ]
    }
   ],
   "source": [
    "print(f'The median GJ consumption in nyc is:') \n",
    "print(nyc_gas['Consumption (GJ)'].median())\n",
    "print(f'The mean GJ consumption in nyc is:')\n",
    "print(nyc_gas['Consumption (GJ)'].mean())"
   ]
  },
  {
   "cell_type": "markdown",
   "metadata": {},
   "source": [
    "### Those values are useful, but I I'll start by breaking the data down by building type into unique dataframes, so that we can find central values by building type, which we would expect to have vastly dirrefernt ranges"
   ]
  },
  {
   "cell_type": "code",
   "execution_count": 16,
   "metadata": {},
   "outputs": [],
   "source": [
    "commercial_nyc_gas = nyc_gas.loc[nyc_gas['Building Type'] == 'Commercial']\n",
    "industrial_nyc_gas = nyc_gas.loc[nyc_gas['Building Type'] == 'Industrial']\n",
    "institutional_nyc_gas = nyc_gas.loc[nyc_gas['Building Type'] == 'Institutional']\n",
    "small_residential_nyc_gas = nyc_gas.loc[nyc_gas['Building Type'] == 'Small residential']\n",
    "residential_nyc_gas = nyc_gas.loc[nyc_gas['Building Type'] == 'Residential']\n",
    "large_residential_nyc_gas = nyc_gas.loc[nyc_gas['Building Type'] == 'Large Residential']"
   ]
  },
  {
   "cell_type": "code",
   "execution_count": 17,
   "metadata": {},
   "outputs": [
    {
     "data": {
      "text/html": [
       "<div>\n",
       "<style scoped>\n",
       "    .dataframe tbody tr th:only-of-type {\n",
       "        vertical-align: middle;\n",
       "    }\n",
       "\n",
       "    .dataframe tbody tr th {\n",
       "        vertical-align: top;\n",
       "    }\n",
       "\n",
       "    .dataframe thead th {\n",
       "        text-align: right;\n",
       "    }\n",
       "</style>\n",
       "<table border=\"1\" class=\"dataframe\">\n",
       "  <thead>\n",
       "    <tr style=\"text-align: right;\">\n",
       "      <th></th>\n",
       "      <th>Zip Code</th>\n",
       "      <th>Building Type</th>\n",
       "      <th>Consumption (Therms)</th>\n",
       "      <th>Consumption (GJ)</th>\n",
       "      <th>Utility</th>\n",
       "    </tr>\n",
       "  </thead>\n",
       "  <tbody>\n",
       "    <tr>\n",
       "      <th>0</th>\n",
       "      <td>10300</td>\n",
       "      <td>Commercial</td>\n",
       "      <td>470.0</td>\n",
       "      <td>50.0</td>\n",
       "      <td>National Grid</td>\n",
       "    </tr>\n",
       "    <tr>\n",
       "      <th>1</th>\n",
       "      <td>10335</td>\n",
       "      <td>Commercial</td>\n",
       "      <td>647.0</td>\n",
       "      <td>68.0</td>\n",
       "      <td>National Grid</td>\n",
       "    </tr>\n",
       "    <tr>\n",
       "      <th>3</th>\n",
       "      <td>11200</td>\n",
       "      <td>Commercial</td>\n",
       "      <td>32125.0</td>\n",
       "      <td>3389.0</td>\n",
       "      <td>National Grid</td>\n",
       "    </tr>\n",
       "    <tr>\n",
       "      <th>7</th>\n",
       "      <td>11274</td>\n",
       "      <td>Commercial</td>\n",
       "      <td>8364.0</td>\n",
       "      <td>882.0</td>\n",
       "      <td>National Grid</td>\n",
       "    </tr>\n",
       "    <tr>\n",
       "      <th>8</th>\n",
       "      <td>11279</td>\n",
       "      <td>Commercial</td>\n",
       "      <td>2579.0</td>\n",
       "      <td>272.0</td>\n",
       "      <td>National Grid</td>\n",
       "    </tr>\n",
       "  </tbody>\n",
       "</table>\n",
       "</div>"
      ],
      "text/plain": [
       "  Zip Code Building Type  Consumption (Therms)  Consumption (GJ)  \\\n",
       "0    10300    Commercial                 470.0              50.0   \n",
       "1    10335    Commercial                 647.0              68.0   \n",
       "3    11200    Commercial               32125.0            3389.0   \n",
       "7    11274    Commercial                8364.0             882.0   \n",
       "8    11279    Commercial                2579.0             272.0   \n",
       "\n",
       "         Utility  \n",
       "0  National Grid  \n",
       "1  National Grid  \n",
       "3  National Grid  \n",
       "7  National Grid  \n",
       "8  National Grid  "
      ]
     },
     "execution_count": 17,
     "metadata": {},
     "output_type": "execute_result"
    }
   ],
   "source": [
    "commercial_nyc_gas.head()"
   ]
  },
  {
   "cell_type": "markdown",
   "metadata": {},
   "source": [
    "### Let's look at the median values of each building type first. This will give us a sense of the actual values"
   ]
  },
  {
   "cell_type": "code",
   "execution_count": 18,
   "metadata": {},
   "outputs": [
    {
     "name": "stdout",
     "output_type": "stream",
     "text": [
      "Median of Commercial buildings (GJ):\n",
      "189413.0\n",
      "Median of Industrial buildings (GJ):\n",
      "16867.5\n",
      "Median of Institutional buildings (GJ):\n",
      "66027.0\n",
      "Median of Small Residential buildings (GJ):\n",
      "599600.0\n",
      "Median of Residential buildings (GJ):\n",
      "53288.5\n",
      "Median of Large Residential buildings (GJ):\n",
      "160960.0\n"
     ]
    }
   ],
   "source": [
    "print(f'Median of Commercial buildings (GJ):') \n",
    "print(commercial_nyc_gas['Consumption (GJ)'].median())\n",
    "print(f'Median of Industrial buildings (GJ):') \n",
    "print(industrial_nyc_gas['Consumption (GJ)'].median())\n",
    "print(f'Median of Institutional buildings (GJ):') \n",
    "print(institutional_nyc_gas['Consumption (GJ)'].median())\n",
    "print(f'Median of Small Residential buildings (GJ):') \n",
    "print(small_residential_nyc_gas['Consumption (GJ)'].median())\n",
    "print(f'Median of Residential buildings (GJ):') \n",
    "print(residential_nyc_gas['Consumption (GJ)'].median())\n",
    "print(f'Median of Large Residential buildings (GJ):') \n",
    "print(large_residential_nyc_gas['Consumption (GJ)'].median())"
   ]
  },
  {
   "cell_type": "markdown",
   "metadata": {},
   "source": [
    "### The highest median consumption is from Small Residential buildings, which is very surprizing! I would have expected Residential, and Large Residential buildings to be larger consumers of energy than small residential buildings, let alone Commertial, Industrial, or Institutional. \n",
    "#### Perhaps this is due to energy efficiency guidelines required by law for  Commertial, Industrial and Institutional buildings. It is beyond the bounds of this analysis to say.\n",
    "#### However, I might suggest when data sources report and record their data, they might use stronger criteria for grouping buildings into small, large, and regular residences."
   ]
  },
  {
   "cell_type": "code",
   "execution_count": 19,
   "metadata": {},
   "outputs": [
    {
     "name": "stdout",
     "output_type": "stream",
     "text": [
      "Mean of Commercial buildings (GJ):\n",
      "286395.6724137931\n",
      "Mean of Industrial buildings (GJ):\n",
      "72813.35365853658\n",
      "Mean of Institutional buildings (GJ):\n",
      "109107.17171717172\n",
      "Mean of Small Residential buildings (GJ):\n",
      "640805.0545454546\n",
      "Mean of Residential buildings (GJ):\n",
      "124355.94897959183\n",
      "Mean of Large Residential buildings (GJ):\n",
      "472450.6705882353\n"
     ]
    }
   ],
   "source": [
    "print(f'Mean of Commercial buildings (GJ):') \n",
    "print(commercial_nyc_gas['Consumption (GJ)'].mean())\n",
    "print(f'Mean of Industrial buildings (GJ):') \n",
    "print(industrial_nyc_gas['Consumption (GJ)'].mean())\n",
    "print(f'Mean of Institutional buildings (GJ):') \n",
    "print(institutional_nyc_gas['Consumption (GJ)'].mean())\n",
    "print(f'Mean of Small Residential buildings (GJ):') \n",
    "print(small_residential_nyc_gas['Consumption (GJ)'].mean())\n",
    "print(f'Mean of Residential buildings (GJ):') \n",
    "print(residential_nyc_gas['Consumption (GJ)'].mean())\n",
    "print(f'Mean of Large Residential buildings (GJ):') \n",
    "print(large_residential_nyc_gas['Consumption (GJ)'].mean())"
   ]
  },
  {
   "cell_type": "markdown",
   "metadata": {},
   "source": [
    "#### The averages of the values show the same patterns as the Median did."
   ]
  },
  {
   "cell_type": "markdown",
   "metadata": {},
   "source": [
    "### How many utility data reporters are included, and the mean and standard deviation of their energy consumption."
   ]
  },
  {
   "cell_type": "markdown",
   "metadata": {},
   "source": [
    "### Let's turn our eyes now to the utilitys"
   ]
  },
  {
   "cell_type": "code",
   "execution_count": 20,
   "metadata": {},
   "outputs": [
    {
     "data": {
      "text/plain": [
       "array(['National Grid', 'ConEd'], dtype=object)"
      ]
     },
     "execution_count": 20,
     "metadata": {},
     "output_type": "execute_result"
    }
   ],
   "source": [
    "pd.unique(nyc_gas['Utility'])"
   ]
  },
  {
   "cell_type": "markdown",
   "metadata": {},
   "source": [
    "#### We'll do the same as above, and shift rows from each value into their own dataframes, so we can easily run algabraic functions on them. We'll focus on the mean and standard deviation for these."
   ]
  },
  {
   "cell_type": "code",
   "execution_count": 21,
   "metadata": {},
   "outputs": [
    {
     "data": {
      "text/html": [
       "<div>\n",
       "<style scoped>\n",
       "    .dataframe tbody tr th:only-of-type {\n",
       "        vertical-align: middle;\n",
       "    }\n",
       "\n",
       "    .dataframe tbody tr th {\n",
       "        vertical-align: top;\n",
       "    }\n",
       "\n",
       "    .dataframe thead th {\n",
       "        text-align: right;\n",
       "    }\n",
       "</style>\n",
       "<table border=\"1\" class=\"dataframe\">\n",
       "  <thead>\n",
       "    <tr style=\"text-align: right;\">\n",
       "      <th></th>\n",
       "      <th>Zip Code</th>\n",
       "      <th>Building Type</th>\n",
       "      <th>Consumption (Therms)</th>\n",
       "      <th>Consumption (GJ)</th>\n",
       "      <th>Utility</th>\n",
       "    </tr>\n",
       "  </thead>\n",
       "  <tbody>\n",
       "    <tr>\n",
       "      <th>51</th>\n",
       "      <td>11109(40.744414792409, -73.957702346686)</td>\n",
       "      <td>Commercial</td>\n",
       "      <td>45899.0</td>\n",
       "      <td>4843.0</td>\n",
       "      <td>ConEd</td>\n",
       "    </tr>\n",
       "    <tr>\n",
       "      <th>52</th>\n",
       "      <td>11429(40.709913120494, -73.738640316098)</td>\n",
       "      <td>Commercial</td>\n",
       "      <td>755.0</td>\n",
       "      <td>80.0</td>\n",
       "      <td>ConEd</td>\n",
       "    </tr>\n",
       "    <tr>\n",
       "      <th>56</th>\n",
       "      <td>10467(40.877047912132, -73.871532500824)</td>\n",
       "      <td>Large Residential</td>\n",
       "      <td>4811979.0</td>\n",
       "      <td>507691.0</td>\n",
       "      <td>ConEd</td>\n",
       "    </tr>\n",
       "    <tr>\n",
       "      <th>59</th>\n",
       "      <td>10003(40.731943947555, -73.98887214913)</td>\n",
       "      <td>Residential</td>\n",
       "      <td>3229606.0</td>\n",
       "      <td>340742.0</td>\n",
       "      <td>ConEd</td>\n",
       "    </tr>\n",
       "    <tr>\n",
       "      <th>61</th>\n",
       "      <td>10451(40.820696407114, -73.923841367985)</td>\n",
       "      <td>Commercial</td>\n",
       "      <td>8071587.0</td>\n",
       "      <td>851598.0</td>\n",
       "      <td>ConEd</td>\n",
       "    </tr>\n",
       "  </tbody>\n",
       "</table>\n",
       "</div>"
      ],
      "text/plain": [
       "                                    Zip Code      Building Type  \\\n",
       "51  11109(40.744414792409, -73.957702346686)         Commercial   \n",
       "52  11429(40.709913120494, -73.738640316098)         Commercial   \n",
       "56  10467(40.877047912132, -73.871532500824)  Large Residential   \n",
       "59   10003(40.731943947555, -73.98887214913)        Residential   \n",
       "61  10451(40.820696407114, -73.923841367985)         Commercial   \n",
       "\n",
       "    Consumption (Therms)  Consumption (GJ) Utility  \n",
       "51               45899.0            4843.0   ConEd  \n",
       "52                 755.0              80.0   ConEd  \n",
       "56             4811979.0          507691.0   ConEd  \n",
       "59             3229606.0          340742.0   ConEd  \n",
       "61             8071587.0          851598.0   ConEd  "
      ]
     },
     "execution_count": 21,
     "metadata": {},
     "output_type": "execute_result"
    }
   ],
   "source": [
    "con_ed_nyc_gas = nyc_gas.loc[nyc_gas['Utility'] == 'ConEd']\n",
    "con_ed_nyc_gas.head()"
   ]
  },
  {
   "cell_type": "code",
   "execution_count": 22,
   "metadata": {},
   "outputs": [
    {
     "data": {
      "text/html": [
       "<div>\n",
       "<style scoped>\n",
       "    .dataframe tbody tr th:only-of-type {\n",
       "        vertical-align: middle;\n",
       "    }\n",
       "\n",
       "    .dataframe tbody tr th {\n",
       "        vertical-align: top;\n",
       "    }\n",
       "\n",
       "    .dataframe thead th {\n",
       "        text-align: right;\n",
       "    }\n",
       "</style>\n",
       "<table border=\"1\" class=\"dataframe\">\n",
       "  <thead>\n",
       "    <tr style=\"text-align: right;\">\n",
       "      <th></th>\n",
       "      <th>Zip Code</th>\n",
       "      <th>Building Type</th>\n",
       "      <th>Consumption (Therms)</th>\n",
       "      <th>Consumption (GJ)</th>\n",
       "      <th>Utility</th>\n",
       "    </tr>\n",
       "  </thead>\n",
       "  <tbody>\n",
       "    <tr>\n",
       "      <th>0</th>\n",
       "      <td>10300</td>\n",
       "      <td>Commercial</td>\n",
       "      <td>470.0</td>\n",
       "      <td>50.0</td>\n",
       "      <td>National Grid</td>\n",
       "    </tr>\n",
       "    <tr>\n",
       "      <th>1</th>\n",
       "      <td>10335</td>\n",
       "      <td>Commercial</td>\n",
       "      <td>647.0</td>\n",
       "      <td>68.0</td>\n",
       "      <td>National Grid</td>\n",
       "    </tr>\n",
       "    <tr>\n",
       "      <th>2</th>\n",
       "      <td>10360</td>\n",
       "      <td>Large Residential</td>\n",
       "      <td>33762.0</td>\n",
       "      <td>3562.0</td>\n",
       "      <td>National Grid</td>\n",
       "    </tr>\n",
       "    <tr>\n",
       "      <th>3</th>\n",
       "      <td>11200</td>\n",
       "      <td>Commercial</td>\n",
       "      <td>32125.0</td>\n",
       "      <td>3389.0</td>\n",
       "      <td>National Grid</td>\n",
       "    </tr>\n",
       "    <tr>\n",
       "      <th>4</th>\n",
       "      <td>11200</td>\n",
       "      <td>Institutional</td>\n",
       "      <td>3605.0</td>\n",
       "      <td>380.0</td>\n",
       "      <td>National Grid</td>\n",
       "    </tr>\n",
       "  </tbody>\n",
       "</table>\n",
       "</div>"
      ],
      "text/plain": [
       "  Zip Code      Building Type  Consumption (Therms)  Consumption (GJ)  \\\n",
       "0    10300         Commercial                 470.0              50.0   \n",
       "1    10335         Commercial                 647.0              68.0   \n",
       "2    10360  Large Residential               33762.0            3562.0   \n",
       "3    11200         Commercial               32125.0            3389.0   \n",
       "4    11200      Institutional                3605.0             380.0   \n",
       "\n",
       "         Utility  \n",
       "0  National Grid  \n",
       "1  National Grid  \n",
       "2  National Grid  \n",
       "3  National Grid  \n",
       "4  National Grid  "
      ]
     },
     "execution_count": 22,
     "metadata": {},
     "output_type": "execute_result"
    }
   ],
   "source": [
    "national_grid_nyc_gas = nyc_gas.loc[nyc_gas['Utility'] == 'National Grid']\n",
    "national_grid_nyc_gas.head()"
   ]
  },
  {
   "cell_type": "code",
   "execution_count": 23,
   "metadata": {},
   "outputs": [
    {
     "name": "stdout",
     "output_type": "stream",
     "text": [
      "Mean of ConEd (GJ):\n",
      "224575.75049115912\n",
      "Standard Deviation of Con Ed (GJ):\n",
      "298958.0488076621\n"
     ]
    }
   ],
   "source": [
    "print(f'Mean of ConEd (GJ):') \n",
    "print(con_ed_nyc_gas['Consumption (GJ)'].mean())\n",
    "print(f'Standard Deviation of Con Ed (GJ):') \n",
    "print(con_ed_nyc_gas['Consumption (GJ)'].std())"
   ]
  },
  {
   "cell_type": "code",
   "execution_count": 24,
   "metadata": {},
   "outputs": [
    {
     "name": "stdout",
     "output_type": "stream",
     "text": [
      "Mean of National Grid (GJ):\n",
      "357475.56048387097\n",
      "Standard Deviation of National Grid (GJ):\n",
      "562355.2736235436\n"
     ]
    }
   ],
   "source": [
    "print(f'Mean of National Grid (GJ):') \n",
    "print(national_grid_nyc_gas['Consumption (GJ)'].mean())\n",
    "print(f'Standard Deviation of National Grid (GJ):') \n",
    "print(national_grid_nyc_gas['Consumption (GJ)'].std())"
   ]
  },
  {
   "cell_type": "markdown",
   "metadata": {},
   "source": [
    "#### It looks like the National Grid is a larger provider in NYC than ConEd, as shown by it's higher aveage value, and larger spread. Let's check out the count to see if it also provides energy to more buildings, or just more energy."
   ]
  },
  {
   "cell_type": "code",
   "execution_count": 25,
   "metadata": {},
   "outputs": [
    {
     "name": "stdout",
     "output_type": "stream",
     "text": [
      "Count of National Grid (GJ):\n",
      "(497,)\n",
      "Count of ConEd (GJ):\n",
      "(518,)\n"
     ]
    }
   ],
   "source": [
    "print(f'Count of National Grid (GJ):') \n",
    "print(national_grid_nyc_gas['Consumption (GJ)'].shape)\n",
    "print(f'Count of ConEd (GJ):') \n",
    "print(con_ed_nyc_gas['Consumption (GJ)'].shape)"
   ]
  },
  {
   "cell_type": "markdown",
   "metadata": {},
   "source": [
    "#### It looks like the National Grid provides to a greater range of energy consumption needs, though to fewer buildings. Maybe ConEd is succeeding in a niche? Either way though, the difference in buildings is small, and may be negligible."
   ]
  },
  {
   "cell_type": "markdown",
   "metadata": {},
   "source": [
    "### I think the data sources could be improved somewhat before another analysis is complete, and before too much more data is gathered\n",
    "### * We have already gone over the Building Types, and how they could be standardized\n",
    "### * ConEd seems to report latitudes and longitudes in the same field and zip codes. If they do not change their reporting style, this would need to be cleaned up before further analysis or visualizattions\n",
    "### * A data file describing the columns, and definitions for Building Type values would be helpful."
   ]
  },
  {
   "cell_type": "markdown",
   "metadata": {},
   "source": [
    "# <center> <br>[Begining of the page](#Top)</center>"
   ]
  }
 ],
 "metadata": {
  "kernelspec": {
   "display_name": "Python 3",
   "language": "python",
   "name": "python3"
  },
  "language_info": {
   "codemirror_mode": {
    "name": "ipython",
    "version": 3
   },
   "file_extension": ".py",
   "mimetype": "text/x-python",
   "name": "python",
   "nbconvert_exporter": "python",
   "pygments_lexer": "ipython3",
   "version": "3.7.3"
  }
 },
 "nbformat": 4,
 "nbformat_minor": 2
}
