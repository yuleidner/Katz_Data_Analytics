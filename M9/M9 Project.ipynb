{
 "cells": [
  {
   "cell_type": "markdown",
   "metadata": {},
   "source": [
    "<a id='Top'></a>\n",
    "<h1> <center>Analytics Programming: Module 9</center> </h1>\n",
    "<p><h2><center>_____________</center> \n",
    "<center>supported by a <a href=\"https://github.com/yuleidner/Katz_Data_Analytics/blob/master/M9/README.md\">M9 README file </a></center></h2></p>\n",
    "<center>Alan Leidner Oct 26, 2019</center>"
   ]
  },
  {
   "cell_type": "code",
   "execution_count": null,
   "metadata": {},
   "outputs": [],
   "source": [
    "import pandas as pd\n",
    "health_survey = pd.read_csv(\"https://data.cityofnewyork.us/resource/2r9r-m6j4.csv\")"
   ]
  },
  {
   "cell_type": "code",
   "execution_count": 2,
   "metadata": {},
   "outputs": [
    {
     "data": {
      "text/html": [
       "<div>\n",
       "<style scoped>\n",
       "    .dataframe tbody tr th:only-of-type {\n",
       "        vertical-align: middle;\n",
       "    }\n",
       "\n",
       "    .dataframe tbody tr th {\n",
       "        vertical-align: top;\n",
       "    }\n",
       "\n",
       "    .dataframe thead th {\n",
       "        text-align: right;\n",
       "    }\n",
       "</style>\n",
       "<table border=\"1\" class=\"dataframe\">\n",
       "  <thead>\n",
       "    <tr style=\"text-align: right;\">\n",
       "      <th></th>\n",
       "      <th>survey</th>\n",
       "      <th>question</th>\n",
       "      <th>year</th>\n",
       "      <th>prevalence</th>\n",
       "      <th>lower95_ci</th>\n",
       "      <th>upper95_ci</th>\n",
       "    </tr>\n",
       "  </thead>\n",
       "  <tbody>\n",
       "    <tr>\n",
       "      <th>0</th>\n",
       "      <td>CHS</td>\n",
       "      <td>Health Insurance Coverage</td>\n",
       "      <td>2010</td>\n",
       "      <td>83.3</td>\n",
       "      <td>82.0</td>\n",
       "      <td>84.6</td>\n",
       "    </tr>\n",
       "    <tr>\n",
       "      <th>1</th>\n",
       "      <td>CHS</td>\n",
       "      <td>Health Insurance Coverage</td>\n",
       "      <td>2010</td>\n",
       "      <td>83.3</td>\n",
       "      <td>82.0</td>\n",
       "      <td>84.6</td>\n",
       "    </tr>\n",
       "    <tr>\n",
       "      <th>2</th>\n",
       "      <td>CHS</td>\n",
       "      <td>Did not get needed medical care</td>\n",
       "      <td>2010</td>\n",
       "      <td>10.3</td>\n",
       "      <td>9.4</td>\n",
       "      <td>11.4</td>\n",
       "    </tr>\n",
       "    <tr>\n",
       "      <th>3</th>\n",
       "      <td>CHS</td>\n",
       "      <td>Did not get needed medical care</td>\n",
       "      <td>2010</td>\n",
       "      <td>10.3</td>\n",
       "      <td>9.4</td>\n",
       "      <td>11.4</td>\n",
       "    </tr>\n",
       "    <tr>\n",
       "      <th>4</th>\n",
       "      <td>CHS</td>\n",
       "      <td>No Personal Doctor</td>\n",
       "      <td>2010</td>\n",
       "      <td>NaN</td>\n",
       "      <td>NaN</td>\n",
       "      <td>NaN</td>\n",
       "    </tr>\n",
       "  </tbody>\n",
       "</table>\n",
       "</div>"
      ],
      "text/plain": [
       "  survey                         question  year  prevalence  lower95_ci  \\\n",
       "0    CHS        Health Insurance Coverage  2010        83.3        82.0   \n",
       "1    CHS        Health Insurance Coverage  2010        83.3        82.0   \n",
       "2    CHS  Did not get needed medical care  2010        10.3         9.4   \n",
       "3    CHS  Did not get needed medical care  2010        10.3         9.4   \n",
       "4    CHS               No Personal Doctor  2010         NaN         NaN   \n",
       "\n",
       "   upper95_ci  \n",
       "0        84.6  \n",
       "1        84.6  \n",
       "2        11.4  \n",
       "3        11.4  \n",
       "4         NaN  "
      ]
     },
     "execution_count": 2,
     "metadata": {},
     "output_type": "execute_result"
    }
   ],
   "source": [
    "health_survey.head()"
   ]
  },
  {
   "cell_type": "code",
   "execution_count": null,
   "metadata": {},
   "outputs": [],
   "source": []
  }
 ],
 "metadata": {
  "kernelspec": {
   "display_name": "Python 3",
   "language": "python",
   "name": "python3"
  },
  "language_info": {
   "codemirror_mode": {
    "name": "ipython",
    "version": 3
   },
   "file_extension": ".py",
   "mimetype": "text/x-python",
   "name": "python",
   "nbconvert_exporter": "python",
   "pygments_lexer": "ipython3",
   "version": "3.7.3"
  }
 },
 "nbformat": 4,
 "nbformat_minor": 2
}
