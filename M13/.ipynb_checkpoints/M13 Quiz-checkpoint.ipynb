{
 "cells": [
  {
   "cell_type": "markdown",
   "metadata": {},
   "source": [
    "<a id='Top'></a>\n",
    "# Analytics Programming: Module 13\n",
    "## NLTK Quiz\n",
    "#### Alan Leidner Dec 01, 2019"
   ]
  },
  {
   "cell_type": "code",
   "execution_count": 1,
   "metadata": {},
   "outputs": [
    {
     "name": "stderr",
     "output_type": "stream",
     "text": [
      "[nltk_data] Downloading package inaugural to\n",
      "[nltk_data]     /Users/leidner/nltk_data...\n",
      "[nltk_data]   Package inaugural is already up-to-date!\n",
      "[nltk_data] Downloading package stopwords to\n",
      "[nltk_data]     /Users/leidner/nltk_data...\n",
      "[nltk_data]   Package stopwords is already up-to-date!\n"
     ]
    }
   ],
   "source": [
    "import nltk\n",
    "nltk.download('inaugural')\n",
    "nltk.download('stopwords')\n",
    "from nltk.corpus import inaugural, stopwords"
   ]
  },
  {
   "cell_type": "markdown",
   "metadata": {},
   "source": [
    "1) Use .fileids() and len to figure out how many speeches there are. Depending on how old your version of NLTK is (say, if you've taken a class in this before), your numbers might be a bit different, so we'll use approximations.\n"
   ]
  },
  {
   "cell_type": "code",
   "execution_count": 2,
   "metadata": {},
   "outputs": [
    {
     "data": {
      "text/plain": [
       "58"
      ]
     },
     "execution_count": 2,
     "metadata": {},
     "output_type": "execute_result"
    }
   ],
   "source": [
    "x =  inaugural.fileids()\n",
    "len(x)"
   ]
  },
  {
   "cell_type": "markdown",
   "metadata": {},
   "source": [
    "What is the filename of the first speech?"
   ]
  },
  {
   "cell_type": "code",
   "execution_count": 3,
   "metadata": {},
   "outputs": [
    {
     "data": {
      "text/plain": [
       "['1789-Washington.txt',\n",
       " '1793-Washington.txt',\n",
       " '1797-Adams.txt',\n",
       " '1801-Jefferson.txt',\n",
       " '1805-Jefferson.txt',\n",
       " '1809-Madison.txt',\n",
       " '1813-Madison.txt',\n",
       " '1817-Monroe.txt',\n",
       " '1821-Monroe.txt',\n",
       " '1825-Adams.txt',\n",
       " '1829-Jackson.txt',\n",
       " '1833-Jackson.txt',\n",
       " '1837-VanBuren.txt',\n",
       " '1841-Harrison.txt',\n",
       " '1845-Polk.txt',\n",
       " '1849-Taylor.txt',\n",
       " '1853-Pierce.txt',\n",
       " '1857-Buchanan.txt',\n",
       " '1861-Lincoln.txt',\n",
       " '1865-Lincoln.txt',\n",
       " '1869-Grant.txt',\n",
       " '1873-Grant.txt',\n",
       " '1877-Hayes.txt',\n",
       " '1881-Garfield.txt',\n",
       " '1885-Cleveland.txt',\n",
       " '1889-Harrison.txt',\n",
       " '1893-Cleveland.txt',\n",
       " '1897-McKinley.txt',\n",
       " '1901-McKinley.txt',\n",
       " '1905-Roosevelt.txt',\n",
       " '1909-Taft.txt',\n",
       " '1913-Wilson.txt',\n",
       " '1917-Wilson.txt',\n",
       " '1921-Harding.txt',\n",
       " '1925-Coolidge.txt',\n",
       " '1929-Hoover.txt',\n",
       " '1933-Roosevelt.txt',\n",
       " '1937-Roosevelt.txt',\n",
       " '1941-Roosevelt.txt',\n",
       " '1945-Roosevelt.txt',\n",
       " '1949-Truman.txt',\n",
       " '1953-Eisenhower.txt',\n",
       " '1957-Eisenhower.txt',\n",
       " '1961-Kennedy.txt',\n",
       " '1965-Johnson.txt',\n",
       " '1969-Nixon.txt',\n",
       " '1973-Nixon.txt',\n",
       " '1977-Carter.txt',\n",
       " '1981-Reagan.txt',\n",
       " '1985-Reagan.txt',\n",
       " '1989-Bush.txt',\n",
       " '1993-Clinton.txt',\n",
       " '1997-Clinton.txt',\n",
       " '2001-Bush.txt',\n",
       " '2005-Bush.txt',\n",
       " '2009-Obama.txt',\n",
       " '2013-Obama.txt',\n",
       " '2017-Trump.txt']"
      ]
     },
     "execution_count": 3,
     "metadata": {},
     "output_type": "execute_result"
    }
   ],
   "source": [
    "inaugural.fileids()"
   ]
  },
  {
   "cell_type": "markdown",
   "metadata": {},
   "source": [
    "What is the second word of the first speech (use .words() to figure this one out, and don't clear out any stopwords or punctuation -- just look at the text as-is.)"
   ]
  },
  {
   "cell_type": "code",
   "execution_count": 4,
   "metadata": {},
   "outputs": [
    {
     "data": {
      "text/plain": [
       "'-'"
      ]
     },
     "execution_count": 4,
     "metadata": {},
     "output_type": "execute_result"
    }
   ],
   "source": [
    "'1793-Washington.txt'[4]"
   ]
  },
  {
   "cell_type": "markdown",
   "metadata": {},
   "source": [
    "4) How many words long is the first speech?"
   ]
  },
  {
   "cell_type": "code",
   "execution_count": 6,
   "metadata": {},
   "outputs": [],
   "source": [
    "speach_1 = nltk.corpus.inaugural.words('1789-Washington.txt')"
   ]
  },
  {
   "cell_type": "code",
   "execution_count": 7,
   "metadata": {},
   "outputs": [
    {
     "data": {
      "text/plain": [
       "1538"
      ]
     },
     "execution_count": 7,
     "metadata": {},
     "output_type": "execute_result"
    }
   ],
   "source": [
    "len(speach_1)"
   ]
  },
  {
   "cell_type": "markdown",
   "metadata": {},
   "source": [
    "How many unique words are there in the first speech? Don't forget how useful set() is here, especially combined with len()."
   ]
  },
  {
   "cell_type": "code",
   "execution_count": 8,
   "metadata": {},
   "outputs": [
    {
     "data": {
      "text/plain": [
       "628"
      ]
     },
     "execution_count": 8,
     "metadata": {},
     "output_type": "execute_result"
    }
   ],
   "source": [
    "len(set(speach_1))"
   ]
  },
  {
   "cell_type": "markdown",
   "metadata": {},
   "source": [
    "6) How many times does the word \"citizens\" occur in the first speech? You might find nltk.FreqDist to be useful here."
   ]
  },
  {
   "cell_type": "code",
   "execution_count": 9,
   "metadata": {},
   "outputs": [],
   "source": [
    "cit = nltk.FreqDist(speach_1)"
   ]
  },
  {
   "cell_type": "code",
   "execution_count": 10,
   "metadata": {},
   "outputs": [
    {
     "data": {
      "text/plain": [
       "[('the', 115),\n",
       " ('of', 71),\n",
       " (',', 70),\n",
       " ('and', 48),\n",
       " ('to', 47),\n",
       " ('which', 36),\n",
       " ('in', 28),\n",
       " ('I', 23),\n",
       " ('be', 23),\n",
       " ('.', 22),\n",
       " ('my', 22),\n",
       " ('by', 19),\n",
       " ('that', 18),\n",
       " ('with', 17),\n",
       " ('a', 14),\n",
       " ('as', 14),\n",
       " ('on', 13),\n",
       " ('have', 12),\n",
       " ('for', 12),\n",
       " ('an', 10),\n",
       " ('this', 10),\n",
       " ('will', 10),\n",
       " ('your', 9),\n",
       " ('can', 9),\n",
       " ('it', 9),\n",
       " ('me', 8),\n",
       " ('every', 8),\n",
       " ('more', 8),\n",
       " (';', 8),\n",
       " ('no', 7),\n",
       " ('is', 7),\n",
       " ('been', 7),\n",
       " ('than', 6),\n",
       " ('from', 6),\n",
       " ('public', 6),\n",
       " ('may', 6),\n",
       " ('government', 6),\n",
       " ('present', 5),\n",
       " ('has', 5),\n",
       " ('or', 5),\n",
       " ('under', 5),\n",
       " ('was', 4),\n",
       " ('one', 4),\n",
       " ('country', 4),\n",
       " ('citizens', 4),\n",
       " ('not', 4),\n",
       " ('ought', 4),\n",
       " ('duty', 4),\n",
       " ('its', 4),\n",
       " ('people', 4)]"
      ]
     },
     "execution_count": 10,
     "metadata": {},
     "output_type": "execute_result"
    }
   ],
   "source": [
    "cit.most_common(50)"
   ]
  },
  {
   "cell_type": "markdown",
   "metadata": {},
   "source": [
    "7) How many stopwords are there in the stopwords corpus?"
   ]
  },
  {
   "cell_type": "code",
   "execution_count": 11,
   "metadata": {},
   "outputs": [
    {
     "data": {
      "text/plain": [
       "23"
      ]
     },
     "execution_count": 11,
     "metadata": {},
     "output_type": "execute_result"
    }
   ],
   "source": [
    "st = stopwords.fileids()\n",
    "len(st)"
   ]
  },
  {
   "cell_type": "code",
   "execution_count": 42,
   "metadata": {},
   "outputs": [],
   "source": [
    "stop = stopwords.words('english')"
   ]
  },
  {
   "cell_type": "code",
   "execution_count": 43,
   "metadata": {},
   "outputs": [
    {
     "data": {
      "text/plain": [
       "6800"
      ]
     },
     "execution_count": 43,
     "metadata": {},
     "output_type": "execute_result"
    }
   ],
   "source": [
    "stopw = nltk.corpus.stopwords.words()\n",
    "len(stopw)"
   ]
  },
  {
   "cell_type": "markdown",
   "metadata": {},
   "source": [
    "8) When you take the intersection of the words in the first speech and the words in stopwords, how many unique words appear in both?"
   ]
  },
  {
   "cell_type": "code",
   "execution_count": 33,
   "metadata": {},
   "outputs": [
    {
     "name": "stdout",
     "output_type": "stream",
     "text": [
      "<class 'nltk.corpus.reader.util.StreamBackedCorpusView'>\n"
     ]
    }
   ],
   "source": [
    "print(type(speach_1))"
   ]
  },
  {
   "cell_type": "markdown",
   "metadata": {},
   "source": [
    "speach_1 is not a list?  stop is a lists "
   ]
  },
  {
   "cell_type": "code",
   "execution_count": 47,
   "metadata": {},
   "outputs": [
    {
     "name": "stdout",
     "output_type": "stream",
     "text": [
      "<class 'set'>\n"
     ]
    }
   ],
   "source": [
    "wash = set(inaugural.words('1789-Washington.txt'))\n",
    "print(type(wash))"
   ]
  },
  {
   "cell_type": "code",
   "execution_count": 50,
   "metadata": {},
   "outputs": [
    {
     "data": {
      "text/plain": [
       "83"
      ]
     },
     "execution_count": 50,
     "metadata": {},
     "output_type": "execute_result"
    }
   ],
   "source": [
    "len(wash.intersection(stop))"
   ]
  },
  {
   "cell_type": "markdown",
   "metadata": {},
   "source": [
    "9) How many times do long words (with 12 or more letters) appear in the first speech?  You can use len(w) to mean the length of a word, and do a list comprehension…"
   ]
  },
  {
   "cell_type": "code",
   "execution_count": 70,
   "metadata": {},
   "outputs": [],
   "source": [
    "long_words = [w for w in wash if len(w) >= 12]"
   ]
  },
  {
   "cell_type": "code",
   "execution_count": 71,
   "metadata": {},
   "outputs": [
    {
     "data": {
      "text/plain": [
       "48"
      ]
     },
     "execution_count": 71,
     "metadata": {},
     "output_type": "execute_result"
    }
   ],
   "source": [
    "len(long_words)"
   ]
  },
  {
   "cell_type": "markdown",
   "metadata": {},
   "source": [
    "10) What's the last word, in alphabetical order, not order of appearance, of the words with exactly 12 letters?"
   ]
  },
  {
   "cell_type": "code",
   "execution_count": 72,
   "metadata": {},
   "outputs": [
    {
     "data": {
      "text/plain": [
       "['Constitution',\n",
       " 'Representatives',\n",
       " 'accomplished',\n",
       " 'administration',\n",
       " 'advantageously',\n",
       " 'affectionate',\n",
       " 'anticipation',\n",
       " 'appreciation',\n",
       " 'auspiciously',\n",
       " 'characteristic',\n",
       " 'circumstance',\n",
       " 'circumstances',\n",
       " 'compensation',\n",
       " 'comprehensive',\n",
       " 'consequences',\n",
       " 'consideration',\n",
       " 'constitutional',\n",
       " 'consultations',\n",
       " 'contemplated',\n",
       " 'deficiencies',\n",
       " 'deliberating',\n",
       " 'deliberations',\n",
       " 'disinclination',\n",
       " 'dispositions',\n",
       " 'distinguished',\n",
       " 'establishing',\n",
       " 'expenditures',\n",
       " 'inapplicable',\n",
       " 'indispensably',\n",
       " 'indissoluble',\n",
       " 'interruptions',\n",
       " 'notification',\n",
       " 'observations',\n",
       " 'opportunities',\n",
       " 'predilection',\n",
       " 'preservation',\n",
       " 'providential',\n",
       " 'qualifications',\n",
       " 'recommendation',\n",
       " 'recommendations',\n",
       " 'satisfaction',\n",
       " 'sufficiently',\n",
       " 'supplication',\n",
       " 'supplications',\n",
       " 'tranquillity',\n",
       " 'transcendent',\n",
       " 'unparalleled',\n",
       " 'vicissitudes']"
      ]
     },
     "execution_count": 72,
     "metadata": {},
     "output_type": "execute_result"
    }
   ],
   "source": [
    "sorted(set(long_words))"
   ]
  },
  {
   "cell_type": "code",
   "execution_count": 69,
   "metadata": {},
   "outputs": [
    {
     "data": {
      "text/plain": [
       "{'\"',\n",
       " '(',\n",
       " ')',\n",
       " ',',\n",
       " '-',\n",
       " '--',\n",
       " '.',\n",
       " '.\"',\n",
       " '14th',\n",
       " ':',\n",
       " ';',\n",
       " 'All',\n",
       " 'Almighty',\n",
       " 'American',\n",
       " 'Among',\n",
       " 'Author',\n",
       " 'Being',\n",
       " 'Besides',\n",
       " 'By',\n",
       " 'Citizens',\n",
       " 'Constitution',\n",
       " 'Country',\n",
       " 'Every',\n",
       " 'Fellow',\n",
       " 'From',\n",
       " 'Government',\n",
       " 'Great',\n",
       " 'Hand',\n",
       " 'Having',\n",
       " 'He',\n",
       " 'Heaven',\n",
       " 'His',\n",
       " 'House',\n",
       " 'Human',\n",
       " 'I',\n",
       " 'In',\n",
       " 'Instead',\n",
       " 'Invisible',\n",
       " 'It',\n",
       " 'No',\n",
       " 'On',\n",
       " 'Parent',\n",
       " 'President',\n",
       " 'Race',\n",
       " 'Representatives',\n",
       " 'Senate',\n",
       " 'States',\n",
       " 'Such',\n",
       " 'The',\n",
       " 'These',\n",
       " 'To',\n",
       " 'United',\n",
       " 'When',\n",
       " 'You',\n",
       " 'a',\n",
       " 'accomplished',\n",
       " 'accordingly',\n",
       " 'acknowledge',\n",
       " 'acquit',\n",
       " 'act',\n",
       " 'actual',\n",
       " 'actuate',\n",
       " 'add',\n",
       " 'addition',\n",
       " 'addressed',\n",
       " 'administration',\n",
       " 'adopt',\n",
       " 'adore',\n",
       " 'adorn',\n",
       " 'advanced',\n",
       " 'advancement',\n",
       " 'advantage',\n",
       " 'advantageously',\n",
       " 'affairs',\n",
       " 'affected',\n",
       " 'affectionate',\n",
       " 'affections',\n",
       " 'again',\n",
       " 'against',\n",
       " 'agency',\n",
       " 'aids',\n",
       " 'all',\n",
       " 'allotted',\n",
       " 'along',\n",
       " 'alteration',\n",
       " 'am',\n",
       " 'an',\n",
       " 'and',\n",
       " 'animosities',\n",
       " 'another',\n",
       " 'anticipation',\n",
       " 'anxieties',\n",
       " 'any',\n",
       " 'appreciation',\n",
       " 'ardent',\n",
       " 'arduous',\n",
       " 'are',\n",
       " 'arising',\n",
       " 'article',\n",
       " 'as',\n",
       " 'assemblage',\n",
       " 'assembled',\n",
       " 'assure',\n",
       " 'asylum',\n",
       " 'at',\n",
       " 'attachments',\n",
       " 'attention',\n",
       " 'attributes',\n",
       " 'auspiciously',\n",
       " 'aver',\n",
       " 'avoid',\n",
       " 'await',\n",
       " 'awaken',\n",
       " 'awakened',\n",
       " 'be',\n",
       " 'been',\n",
       " 'before',\n",
       " 'behold',\n",
       " 'being',\n",
       " 'benediction',\n",
       " 'benefits',\n",
       " 'benign',\n",
       " 'between',\n",
       " 'birth',\n",
       " 'blessing',\n",
       " 'blessings',\n",
       " 'bound',\n",
       " 'brief',\n",
       " 'brings',\n",
       " 'but',\n",
       " 'by',\n",
       " 'call',\n",
       " 'called',\n",
       " 'can',\n",
       " 'care',\n",
       " 'carefully',\n",
       " 'cares',\n",
       " 'character',\n",
       " 'characteristic',\n",
       " 'characters',\n",
       " 'charge',\n",
       " 'charter',\n",
       " 'chosen',\n",
       " 'circumstance',\n",
       " 'circumstances',\n",
       " 'citizens',\n",
       " 'civil',\n",
       " 'collect',\n",
       " 'command',\n",
       " 'commence',\n",
       " 'committed',\n",
       " 'communities',\n",
       " 'compared',\n",
       " 'compensation',\n",
       " 'comprehensive',\n",
       " 'concerns',\n",
       " 'conducts',\n",
       " 'confidence',\n",
       " 'conflict',\n",
       " 'congenial',\n",
       " 'conscious',\n",
       " 'consecrate',\n",
       " 'consent',\n",
       " 'consequences',\n",
       " 'consideration',\n",
       " 'considered',\n",
       " 'consistent',\n",
       " 'conspicuous',\n",
       " 'constitutional',\n",
       " 'consultations',\n",
       " 'consulted',\n",
       " 'contemplated',\n",
       " 'continuance',\n",
       " 'could',\n",
       " 'councils',\n",
       " 'country',\n",
       " 'course',\n",
       " 'crisis',\n",
       " 'dare',\n",
       " 'day',\n",
       " 'dear',\n",
       " 'decide',\n",
       " 'deciding',\n",
       " 'decision',\n",
       " 'decline',\n",
       " 'declining',\n",
       " 'deeply',\n",
       " 'defect',\n",
       " 'deficiencies',\n",
       " 'defining',\n",
       " 'degree',\n",
       " 'delegated',\n",
       " 'deliberating',\n",
       " 'deliberations',\n",
       " 'departed',\n",
       " 'department',\n",
       " 'depend',\n",
       " 'derived',\n",
       " 'designates',\n",
       " 'despondence',\n",
       " 'destiny',\n",
       " 'devise',\n",
       " 'difficulty',\n",
       " 'discernment',\n",
       " 'disinclination',\n",
       " 'dispositions',\n",
       " 'disregards',\n",
       " 'distinct',\n",
       " 'distinguished',\n",
       " 'distrustful',\n",
       " 'divine',\n",
       " 'due',\n",
       " 'during',\n",
       " 'duties',\n",
       " 'duty',\n",
       " 'dwell',\n",
       " 'economy',\n",
       " 'effective',\n",
       " 'either',\n",
       " 'emoluments',\n",
       " 'emotions',\n",
       " 'employed',\n",
       " 'enable',\n",
       " 'endanger',\n",
       " 'endowments',\n",
       " 'enlarged',\n",
       " 'entering',\n",
       " 'entire',\n",
       " 'entrusted',\n",
       " 'equal',\n",
       " 'equally',\n",
       " 'error',\n",
       " 'essential',\n",
       " 'established',\n",
       " 'establishing',\n",
       " 'estimates',\n",
       " 'eternal',\n",
       " 'eve',\n",
       " 'event',\n",
       " 'every',\n",
       " 'execute',\n",
       " 'executing',\n",
       " 'executive',\n",
       " 'exemplified',\n",
       " 'exercise',\n",
       " 'exists',\n",
       " 'expected',\n",
       " 'expedient',\n",
       " 'expenditures',\n",
       " 'experience',\n",
       " 'experienced',\n",
       " 'experiment',\n",
       " 'expresses',\n",
       " 'eye',\n",
       " 'faithful',\n",
       " 'far',\n",
       " 'favor',\n",
       " 'feelings',\n",
       " 'felicity',\n",
       " 'fellow',\n",
       " 'fervent',\n",
       " 'fifth',\n",
       " 'filled',\n",
       " 'finally',\n",
       " 'fire',\n",
       " 'first',\n",
       " 'flattering',\n",
       " 'fondest',\n",
       " 'for',\n",
       " 'forced',\n",
       " 'foregoing',\n",
       " 'form',\n",
       " 'former',\n",
       " 'fortified',\n",
       " 'foundation',\n",
       " 'free',\n",
       " 'freemen',\n",
       " 'frequent',\n",
       " 'from',\n",
       " 'functions',\n",
       " 'further',\n",
       " 'future',\n",
       " 'genuine',\n",
       " 'give',\n",
       " 'given',\n",
       " 'good',\n",
       " 'government',\n",
       " 'governments',\n",
       " 'gradual',\n",
       " 'grateful',\n",
       " 'gratitude',\n",
       " 'great',\n",
       " 'greater',\n",
       " 'guided',\n",
       " 'habit',\n",
       " 'had',\n",
       " 'hand',\n",
       " 'hands',\n",
       " 'happiness',\n",
       " 'harmony',\n",
       " 'has',\n",
       " 'have',\n",
       " 'he',\n",
       " 'health',\n",
       " 'hear',\n",
       " 'her',\n",
       " 'his',\n",
       " 'homage',\n",
       " 'honest',\n",
       " 'honorable',\n",
       " 'honored',\n",
       " 'hope',\n",
       " 'hopes',\n",
       " 'how',\n",
       " 'human',\n",
       " 'humble',\n",
       " 'if',\n",
       " 'immutable',\n",
       " 'imparted',\n",
       " 'important',\n",
       " 'impregnably',\n",
       " 'impressions',\n",
       " 'improper',\n",
       " 'in',\n",
       " 'inapplicable',\n",
       " 'incapacity',\n",
       " 'incident',\n",
       " 'inclination',\n",
       " 'included',\n",
       " 'independent',\n",
       " 'indispensably',\n",
       " 'indissoluble',\n",
       " 'inferior',\n",
       " 'influence',\n",
       " 'inheriting',\n",
       " 'inquietude',\n",
       " 'inspire',\n",
       " 'instance',\n",
       " 'instances',\n",
       " 'instituted',\n",
       " 'instrument',\n",
       " 'interests',\n",
       " 'interruptions',\n",
       " 'into',\n",
       " 'is',\n",
       " 'it',\n",
       " 'its',\n",
       " 'itself',\n",
       " 'join',\n",
       " 'judge',\n",
       " 'judged',\n",
       " 'judgment',\n",
       " 'juncture',\n",
       " 'just',\n",
       " 'justly',\n",
       " 'laid',\n",
       " 'large',\n",
       " 'latter',\n",
       " 'leave',\n",
       " 'less',\n",
       " 'lessons',\n",
       " 'liberties',\n",
       " 'liberty',\n",
       " 'life',\n",
       " 'light',\n",
       " 'lights',\n",
       " 'limited',\n",
       " 'little',\n",
       " 'local',\n",
       " 'love',\n",
       " 'made',\n",
       " 'magnanimous',\n",
       " 'magnitude',\n",
       " 'many',\n",
       " 'maxims',\n",
       " 'may',\n",
       " 'me',\n",
       " 'means',\n",
       " 'measures',\n",
       " 'meet',\n",
       " 'men',\n",
       " 'might',\n",
       " 'mind',\n",
       " 'misdirect',\n",
       " 'mislead',\n",
       " 'model',\n",
       " 'month',\n",
       " 'morality',\n",
       " 'more',\n",
       " 'most',\n",
       " 'motives',\n",
       " 'much',\n",
       " 'must',\n",
       " 'my',\n",
       " 'myself',\n",
       " 'nation',\n",
       " 'national',\n",
       " 'nations',\n",
       " 'nature',\n",
       " 'necessary',\n",
       " 'never',\n",
       " 'new',\n",
       " 'no',\n",
       " 'none',\n",
       " 'nor',\n",
       " 'not',\n",
       " 'notification',\n",
       " 'now',\n",
       " 'obedience',\n",
       " 'objections',\n",
       " 'objects',\n",
       " 'observations',\n",
       " 'occasion',\n",
       " 'occasional',\n",
       " 'of',\n",
       " 'official',\n",
       " 'omit',\n",
       " 'on',\n",
       " 'once',\n",
       " 'one',\n",
       " 'opportunities',\n",
       " 'or',\n",
       " 'ordained',\n",
       " 'order',\n",
       " 'ordinary',\n",
       " 'originated',\n",
       " 'other',\n",
       " 'ought',\n",
       " 'our',\n",
       " 'out',\n",
       " 'over',\n",
       " 'overwhelm',\n",
       " 'own',\n",
       " 'palliated',\n",
       " 'partiality',\n",
       " 'particular',\n",
       " 'party',\n",
       " 'past',\n",
       " 'patriotism',\n",
       " 'peculiarly',\n",
       " 'pecuniary',\n",
       " 'people',\n",
       " 'perfect',\n",
       " 'perhaps',\n",
       " 'permanent',\n",
       " 'personal',\n",
       " 'persuaded',\n",
       " 'pious',\n",
       " 'place',\n",
       " 'placed',\n",
       " 'pleased',\n",
       " 'pledges',\n",
       " 'policy',\n",
       " 'possible',\n",
       " 'power',\n",
       " 'powers',\n",
       " 'pray',\n",
       " 'predilection',\n",
       " 'preeminence',\n",
       " 'prejudices',\n",
       " 'presage',\n",
       " 'present',\n",
       " 'preservation',\n",
       " 'presides',\n",
       " 'principles',\n",
       " 'private',\n",
       " 'proceedings',\n",
       " 'produced',\n",
       " 'promoted',\n",
       " 'proof',\n",
       " 'properly',\n",
       " 'propitious',\n",
       " 'prospect',\n",
       " 'prosperity',\n",
       " 'providential',\n",
       " 'provision',\n",
       " 'public',\n",
       " 'pure',\n",
       " 'purposes',\n",
       " 'pursuit',\n",
       " 'qualifications',\n",
       " 'question',\n",
       " 'received',\n",
       " 'recommend',\n",
       " 'recommendation',\n",
       " 'recommendations',\n",
       " 'rectitude',\n",
       " 'refer',\n",
       " 'reflections',\n",
       " 'regard',\n",
       " 'remain',\n",
       " 'remembrance',\n",
       " 'rendered',\n",
       " 'renounce',\n",
       " 'repaired',\n",
       " 'republican',\n",
       " 'require',\n",
       " 'required',\n",
       " 'resolution',\n",
       " 'resorting',\n",
       " 'respect',\n",
       " 'resulted',\n",
       " 'retreat',\n",
       " 'return',\n",
       " 'reverence',\n",
       " 'revolution',\n",
       " 'rewards',\n",
       " 'right',\n",
       " 'rights',\n",
       " 'rules',\n",
       " 'sacred',\n",
       " 'safely',\n",
       " 'satisfaction',\n",
       " 'scrutiny',\n",
       " 'security',\n",
       " 'seem',\n",
       " 'seems',\n",
       " 'selected',\n",
       " 'sensibility',\n",
       " 'sentiments',\n",
       " 'separate',\n",
       " 'service',\n",
       " 'shall',\n",
       " 'share',\n",
       " 'should',\n",
       " 'side',\n",
       " 'since',\n",
       " 'smiles',\n",
       " 'so',\n",
       " 'solid',\n",
       " 'some',\n",
       " 'staked',\n",
       " 'station',\n",
       " 'step',\n",
       " 'still',\n",
       " 'strongly',\n",
       " 'struggle',\n",
       " 'study',\n",
       " 'subject',\n",
       " 'submitted',\n",
       " 'substitute',\n",
       " 'success',\n",
       " 'such',\n",
       " 'sufficient',\n",
       " 'sufficiently',\n",
       " 'summoned',\n",
       " 'summons',\n",
       " 'supplication',\n",
       " 'supplications',\n",
       " 'supply',\n",
       " 'suppressed',\n",
       " 'surest',\n",
       " 'swayed',\n",
       " 'system',\n",
       " 'take',\n",
       " 'talents',\n",
       " 'task',\n",
       " 'temperate',\n",
       " 'tendering',\n",
       " 'than',\n",
       " 'that',\n",
       " 'the',\n",
       " 'their',\n",
       " 'them',\n",
       " 'themselves',\n",
       " 'then',\n",
       " 'thence',\n",
       " 'there',\n",
       " 'therefore',\n",
       " 'these',\n",
       " 'they',\n",
       " 'thinking',\n",
       " 'this',\n",
       " 'thoroughly',\n",
       " 'those',\n",
       " 'thought',\n",
       " 'thus',\n",
       " 'time',\n",
       " 'to',\n",
       " 'together',\n",
       " 'token',\n",
       " 'too',\n",
       " 'tranquil',\n",
       " 'tranquillity',\n",
       " 'transcendent',\n",
       " 'transmitted',\n",
       " 'tribute',\n",
       " 'trust',\n",
       " 'truth',\n",
       " 'unanimity',\n",
       " 'under',\n",
       " 'undertaking',\n",
       " 'union',\n",
       " 'united',\n",
       " 'universe',\n",
       " 'unparalleled',\n",
       " 'unpracticed',\n",
       " 'untried',\n",
       " 'urged',\n",
       " 'us',\n",
       " 'veneration',\n",
       " 'vicissitudes',\n",
       " 'views',\n",
       " 'virtue',\n",
       " 'voice',\n",
       " 'voluntary',\n",
       " 'was',\n",
       " 'waste',\n",
       " 'watch',\n",
       " 'way',\n",
       " 'we',\n",
       " 'weighty',\n",
       " 'well',\n",
       " 'which',\n",
       " 'whilst',\n",
       " 'who',\n",
       " 'whose',\n",
       " 'will',\n",
       " 'win',\n",
       " 'wise',\n",
       " 'wisest',\n",
       " 'with',\n",
       " 'without',\n",
       " 'world',\n",
       " 'would',\n",
       " 'years',\n",
       " 'you',\n",
       " 'your'}"
      ]
     },
     "execution_count": 69,
     "metadata": {},
     "output_type": "execute_result"
    }
   ],
   "source": [
    "wash"
   ]
  }
 ],
 "metadata": {
  "kernelspec": {
   "display_name": "Python 3",
   "language": "python",
   "name": "python3"
  },
  "language_info": {
   "codemirror_mode": {
    "name": "ipython",
    "version": 3
   },
   "file_extension": ".py",
   "mimetype": "text/x-python",
   "name": "python",
   "nbconvert_exporter": "python",
   "pygments_lexer": "ipython3",
   "version": "3.7.3"
  }
 },
 "nbformat": 4,
 "nbformat_minor": 2
}
